{
 "cells": [
  {
   "cell_type": "code",
   "execution_count": null,
   "metadata": {},
   "outputs": [],
   "source": [
    "Заданы две клетки шахматной доски. Если они покрашены в один цвет, то выведите слово YES, \n",
    "а если в разные цвета — то NO. Программа получает на вход четыре числа от 1 до 8 каждое, \n",
    "задающие номер столбца и номер строки сначала для первой клетки, потом для второй клетки."
   ]
  },
  {
   "cell_type": "code",
   "execution_count": null,
   "metadata": {},
   "outputs": [],
   "source": [
    "a = int(input())\n",
    "b = int(input())\n",
    "a1 = int(input())\n",
    "b1 = int(input())\n",
    "if ((a + b) % 2 == 0)and((a1 +b1) % 2 == 0):\n",
    "    print('YES')\n",
    "elif ((a + b) % 2 == 1)and((a1 +b1) % 2 == 1):\n",
    "    print('YES')\n",
    "else:\n",
    "    print('NO')"
   ]
  },
  {
   "cell_type": "code",
   "execution_count": null,
   "metadata": {},
   "outputs": [],
   "source": [
    "Дано натуральное число. Требуется определить, является ли год с данным номером високосным. \n",
    "Если год является високосным, то выведите YES, иначе выведите NO. \n",
    "Напомним, что в соответствии с григорианским календарем, год является високосным, если его номер кратен 4, \n",
    "но не кратен 100, а также если он кратен 400."
   ]
  },
  {
   "cell_type": "code",
   "execution_count": 6,
   "metadata": {},
   "outputs": [
    {
     "name": "stdout",
     "output_type": "stream",
     "text": [
      "2020\n",
      "YES\n"
     ]
    }
   ],
   "source": [
    "Year = int(input())\n",
    "if (Year % 4 == 0)and(Year % 100 != 0)or(Year % 400 == 0):\n",
    "    print('YES')\n",
    "else:\n",
    "    print('NO')"
   ]
  },
  {
   "cell_type": "code",
   "execution_count": null,
   "metadata": {},
   "outputs": [],
   "source": [
    "Даны три целых числа. Выведите значение наименьшего из них."
   ]
  },
  {
   "cell_type": "code",
   "execution_count": 8,
   "metadata": {},
   "outputs": [
    {
     "name": "stdout",
     "output_type": "stream",
     "text": [
      "3\n",
      "5\n",
      "3\n",
      "3\n"
     ]
    }
   ],
   "source": [
    "a = int(input())\n",
    "b = int(input())\n",
    "c = int(input())\n",
    "if (a <= b)and(a <= c):\n",
    "    print(a)\n",
    "elif (b <= a)and(b <= c):\n",
    "    print(b)\n",
    "else:\n",
    "    print(c)"
   ]
  },
  {
   "cell_type": "code",
   "execution_count": null,
   "metadata": {},
   "outputs": [],
   "source": [
    "Даны три целых числа. Определите, сколько среди них совпадающих.\n",
    "Программа должна вывести одно из чисел: 3 (если все совпадают), 2 (если два совпадает) или \n",
    "    0 (если все числа различны)."
   ]
  },
  {
   "cell_type": "code",
   "execution_count": 11,
   "metadata": {},
   "outputs": [
    {
     "name": "stdout",
     "output_type": "stream",
     "text": [
      "4\n",
      "4\n",
      "3\n",
      "2\n"
     ]
    }
   ],
   "source": [
    "a = int(input())\n",
    "b = int(input())\n",
    "c = int(input())\n",
    "if a == b == c:\n",
    "    print(3)\n",
    "elif (a == b)or(a == c)or(b == c):\n",
    "    print(2)\n",
    "else:\n",
    "    print(0)"
   ]
  },
  {
   "cell_type": "code",
   "execution_count": null,
   "metadata": {},
   "outputs": [],
   "source": [
    "Шахматная ладья ходит по горизонтали или вертикали. Даны две различные клетки шахматной доски, \n",
    "определите, может ли ладья попасть с первой клетки на вторую одним ходом. \n",
    "Программа получает на вход четыре числа от 1 до 8 каждое, задающие номер столбца и номер строки \n",
    "сначала для первой клетки, потом для второй клетки. \n",
    "Программа должна вывести YES, если из первой клетки ходом ладьи можно попасть во вторую или NO в противном случае."
   ]
  },
  {
   "cell_type": "code",
   "execution_count": 12,
   "metadata": {},
   "outputs": [
    {
     "name": "stdout",
     "output_type": "stream",
     "text": [
      "4\n",
      "4\n",
      "5\n",
      "5\n",
      "NO\n"
     ]
    }
   ],
   "source": [
    "x1 = int(input())\n",
    "y1 = int(input())\n",
    "x2 = int(input())\n",
    "y2 = int(input())\n",
    "if (x1 == x2)or(y1 == y2):\n",
    "    print('YES')\n",
    "else:\n",
    "    print('NO')"
   ]
  },
  {
   "cell_type": "code",
   "execution_count": null,
   "metadata": {},
   "outputs": [],
   "source": [
    "Шахматный король ходит по горизонтали, вертикали и диагонали, но только на 1 клетку. \n",
    "Даны две различные клетки шахматной доски, определите, может ли король попасть с первой клетки на вторую\n",
    "одним ходом. Программа получает на вход четыре числа от 1 до 8 каждое, \n",
    "задающие номер столбца и номер строки сначала для первой клетки, потом для второй клетки. \n",
    "Программа должна вывести YES, если из первой клетки ходом короля можно попасть во вторую или NO в противном случае."
   ]
  },
  {
   "cell_type": "code",
   "execution_count": 21,
   "metadata": {},
   "outputs": [
    {
     "name": "stdout",
     "output_type": "stream",
     "text": [
      "4\n",
      "4\n",
      "5\n",
      "6\n",
      "NO\n"
     ]
    }
   ],
   "source": [
    "x1 = int(input())\n",
    "y1 = int(input())\n",
    "x2 = int(input())\n",
    "y2 = int(input())\n",
    "if (x1 == x2)and(y1 - y2 == 1):\n",
    "    print('YES')\n",
    "elif (x1 == x2)and(y2 - y1 == 1):\n",
    "    print('YES')\n",
    "elif (y1 == y2)and(x1 - x2 == 1):\n",
    "    print('YES')\n",
    "elif (y1 == y2)and(x2 - x1 == 1):\n",
    "    print('YES')\n",
    "elif (x2 == x1 + 1)and(y2 == y1 + 1):\n",
    "    print('YES')\n",
    "elif (x2 == x1 - 1)and(y2 == y1 - 1):\n",
    "    print('YES')\n",
    "elif (x2 == x1 - 1)and(y2 == y1 + 1):\n",
    "    print('YES')\n",
    "elif (x2 == x1 + 1)and(y2 == y1 - 1):\n",
    "    print('YES')\n",
    "else:\n",
    "    print('NO')"
   ]
  },
  {
   "cell_type": "code",
   "execution_count": null,
   "metadata": {},
   "outputs": [],
   "source": [
    "Шахматный слон ходит по диагонали. Даны две различные клетки шахматной доски, определите, \n",
    "может ли слон попасть с первой клетки на вторую одним ходом."
   ]
  },
  {
   "cell_type": "code",
   "execution_count": 5,
   "metadata": {},
   "outputs": [
    {
     "name": "stdout",
     "output_type": "stream",
     "text": [
      "1\n",
      "8\n",
      "8\n",
      "1\n",
      "YES\n"
     ]
    }
   ],
   "source": [
    "x1 = int(input())\n",
    "y1 = int(input())\n",
    "x2 = int(input())\n",
    "y2 = int(input())\n",
    "if abs(x1 - x2) == abs(y1 - y2):\n",
    "    print('YES')\n",
    "else:\n",
    "    print('NO')"
   ]
  },
  {
   "cell_type": "code",
   "execution_count": null,
   "metadata": {},
   "outputs": [],
   "source": [
    "Шахматный ферзь ходит по диагонали, горизонтали или вертикали.\n",
    "Даны две различные клетки шахматной доски, определите, может ли ферзь попасть с первой клетки на вторую одним ходом."
   ]
  },
  {
   "cell_type": "code",
   "execution_count": null,
   "metadata": {},
   "outputs": [],
   "source": [
    "x1 = int(input())\n",
    "y1 = int(input())\n",
    "x2 = int(input())\n",
    "y2 = int(input())\n",
    "if abs(x1 - x2) == abs(y1 - y2):\n",
    "    print('YES')\n",
    "elif (x1 == x2)or(y1 == y2):\n",
    "    print('YES')\n",
    "else:\n",
    "    print('NO')"
   ]
  },
  {
   "cell_type": "code",
   "execution_count": null,
   "metadata": {},
   "outputs": [],
   "source": [
    "Шахматный конь ходит буквой “Г” — на две клетки по вертикали в любом направлении и на одну клетку по горизонтали, \n",
    "или наоборот. Даны две различные клетки шахматной доски, определите, может ли конь попасть с первой клетки \n",
    "на вторую одним ходом."
   ]
  },
  {
   "cell_type": "code",
   "execution_count": null,
   "metadata": {},
   "outputs": [],
   "source": [
    "x1 = int(input())\n",
    "y1 = int(input())\n",
    "x2 = int(input())\n",
    "y2 = int(input())\n",
    "if abs(x1 - x2) == 2 and abs(y1 - y2)== 1:\n",
    "    print('YES')\n",
    "elif abs(y1 - y2) == 2 and abs(x1 - x2)== 1:\n",
    "    print('YES')\n",
    "else:\n",
    "    print('NO')"
   ]
  },
  {
   "cell_type": "code",
   "execution_count": null,
   "metadata": {},
   "outputs": [],
   "source": [
    "Шоколадка имеет вид прямоугольника, разделенного на n×m долек. Шоколадку можно один раз разломить по прямой\n",
    "на две части. Определите, можно ли таким образом отломить от шоколадки часть, состоящую ровно из k долек.\n",
    "Программа получает на вход три числа: n, m, k и должна вывести YES или NO."
   ]
  },
  {
   "cell_type": "code",
   "execution_count": 6,
   "metadata": {},
   "outputs": [
    {
     "name": "stdout",
     "output_type": "stream",
     "text": [
      "5\n",
      "5\n",
      "25\n",
      "YES\n"
     ]
    }
   ],
   "source": [
    "n = int(input())\n",
    "m = int(input())\n",
    "k = int(input())\n",
    "c = (m * n) % k\n",
    "if (k > m * n) or (k == 1):\n",
    "    print('NO')\n",
    "elif (c % m == 0)or(c % n == 0)and(k % m == 0)or(k % n == 0):\n",
    "    print('YES')\n",
    "else:\n",
    "    print('NO')"
   ]
  },
  {
   "cell_type": "code",
   "execution_count": null,
   "metadata": {},
   "outputs": [],
   "source": [
    "Яша плавал в бассейне размером N × M метров и устал. В этот момент он обнаружил,\n",
    "что находится на расстоянии x метров от одного из длинных бортиков (не обязательно от ближайшего)\n",
    "и y метров от одного из коротких бортиков. Какое минимальное расстояние должен проплыть Яша,\n",
    "чтобы выбраться из бассейна на бортик? Программа получает на вход числа N, M, x, y. \n",
    "Программа должна вывести число метров, которое нужно проплыть Яше до бортика"
   ]
  },
  {
   "cell_type": "code",
   "execution_count": null,
   "metadata": {},
   "outputs": [],
   "source": [
    "n = int(input())\n",
    "m = int(input())\n",
    "x = int(input())\n",
    "y = int(input())\n",
    "# n, m = min(n, m), max(n, m)\n",
    "if n > m:\n",
    "    n, m = m, n\n",
    "if x >= n / 2:\n",
    "    x = n - x\n",
    "if y >= m / 2:\n",
    "    y = m - y\n",
    "# print(min(x, y))\n",
    "if x < y:\n",
    "    print(x)\n",
    "else:\n",
    "    print(y)"
   ]
  }
 ],
 "metadata": {
  "kernelspec": {
   "display_name": "Python 3",
   "language": "python",
   "name": "python3"
  },
  "language_info": {
   "codemirror_mode": {
    "name": "ipython",
    "version": 3
   },
   "file_extension": ".py",
   "mimetype": "text/x-python",
   "name": "python",
   "nbconvert_exporter": "python",
   "pygments_lexer": "ipython3",
   "version": "3.7.4"
  }
 },
 "nbformat": 4,
 "nbformat_minor": 4
}
