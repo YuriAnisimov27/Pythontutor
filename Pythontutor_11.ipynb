{
 "cells": [
  {
   "cell_type": "code",
   "execution_count": null,
   "metadata": {},
   "outputs": [],
   "source": [
    "В единственной строке записан текст. Для каждого слова из данного текста подсчитайте,\n",
    "сколько раз оно встречалось в этом тексте ранее.\n",
    "Словом считается последовательность непробельных символов идущих подряд, \n",
    "слова разделены одним или большим числом пробелов или символами конца строки."
   ]
  },
  {
   "cell_type": "code",
   "execution_count": 2,
   "metadata": {},
   "outputs": [
    {
     "name": "stdout",
     "output_type": "stream",
     "text": [
      "one two one tho three\n",
      "0 0 1 0 0 "
     ]
    }
   ],
   "source": [
    "myDict = dict()\n",
    "for i in input().split():\n",
    "    if i in myDict:\n",
    "        print(myDict[i], end=' ')\n",
    "        myDict[i] += 1\n",
    "    else:\n",
    "        print(0, end=' ')\n",
    "        myDict[i] = 1"
   ]
  },
  {
   "cell_type": "code",
   "execution_count": null,
   "metadata": {},
   "outputs": [],
   "source": [
    "Вам дан словарь, состоящий из пар слов. Каждое слово является синонимом к парному ему слову. \n",
    "Все слова в словаре различны.\n",
    "Для слова из словаря, записанного в последней строке, определите его синоним."
   ]
  },
  {
   "cell_type": "code",
   "execution_count": 7,
   "metadata": {},
   "outputs": [
    {
     "name": "stdout",
     "output_type": "stream",
     "text": [
      "3\n",
      "Hello Hi\n",
      "Bye Goodbye\n",
      "List Array\n",
      "Goodbye\n",
      "Bye\n"
     ]
    }
   ],
   "source": [
    "myDict = dict()\n",
    "for i in range(int(input())):\n",
    "    m, n = input().split()\n",
    "    myDict[m] = n\n",
    "search = input()\n",
    "for key, val in myDict.items():\n",
    "    if val == search:\n",
    "        print(key)\n",
    "    elif key == search:\n",
    "        print(val)"
   ]
  },
  {
   "cell_type": "code",
   "execution_count": null,
   "metadata": {},
   "outputs": [],
   "source": [
    "Как известно, в США президент выбирается не прямым голосованием, а путем двухуровневого голосования. \n",
    "Сначала проводятся выборы в каждом штате и определяется победитель выборов в данном штате. \n",
    "Затем проводятся государственные выборы: на этих выборах каждый штат имеет определенное число голосов — \n",
    "число выборщиков от этого штата. На практике, все выборщики от штата голосуют в соответствии с результами \n",
    "голосования внутри штата, то есть на заключительной стадии выборов в голосовании участвуют штаты, \n",
    "имеющие различное число голосов.\n",
    "\n",
    "В первой строке дано количество записей. Далее, каждая запись содержит фамилию кандидата и число голосов, \n",
    "отданных за него в одном из штатов. Подведите итоги выборов: для каждого из участника голосования определите \n",
    "число отданных за него голосов. Участников нужно выводить в алфавитном порядке."
   ]
  },
  {
   "cell_type": "code",
   "execution_count": 9,
   "metadata": {},
   "outputs": [
    {
     "name": "stdout",
     "output_type": "stream",
     "text": [
      "3\n",
      "q 1\n",
      "a 2\n",
      "a 3\n",
      "a 5\n",
      "q 1\n"
     ]
    }
   ],
   "source": [
    "presidents = dict()\n",
    "N = int(input())\n",
    "for i in range(N):\n",
    "    name, count = input().split()\n",
    "    if name in presidents:\n",
    "        presidents[name] += int(count)\n",
    "    else:\n",
    "        presidents[name] = int(count)\n",
    "list_keys = list(presidents.keys())\n",
    "list_keys.sort()\n",
    "for i in list_keys:\n",
    "    print(i, presidents[i])"
   ]
  },
  {
   "cell_type": "code",
   "execution_count": null,
   "metadata": {},
   "outputs": [],
   "source": []
  },
  {
   "cell_type": "code",
   "execution_count": null,
   "metadata": {},
   "outputs": [],
   "source": []
  }
 ],
 "metadata": {
  "kernelspec": {
   "display_name": "Python 3",
   "language": "python",
   "name": "python3"
  },
  "language_info": {
   "codemirror_mode": {
    "name": "ipython",
    "version": 3
   },
   "file_extension": ".py",
   "mimetype": "text/x-python",
   "name": "python",
   "nbconvert_exporter": "python",
   "pygments_lexer": "ipython3",
   "version": "3.7.4"
  }
 },
 "nbformat": 4,
 "nbformat_minor": 4
}
