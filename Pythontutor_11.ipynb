{
 "cells": [
  {
   "cell_type": "code",
   "execution_count": null,
   "metadata": {},
   "outputs": [],
   "source": [
    "В единственной строке записан текст. Для каждого слова из данного текста подсчитайте,\n",
    "сколько раз оно встречалось в этом тексте ранее.\n",
    "Словом считается последовательность непробельных символов идущих подряд, \n",
    "слова разделены одним или большим числом пробелов или символами конца строки."
   ]
  },
  {
   "cell_type": "code",
   "execution_count": 2,
   "metadata": {},
   "outputs": [
    {
     "name": "stdout",
     "output_type": "stream",
     "text": [
      "one two one tho three\n",
      "0 0 1 0 0 "
     ]
    }
   ],
   "source": [
    "myDict = dict()\n",
    "for i in input().split():\n",
    "    if i in myDict:\n",
    "        print(myDict[i], end=' ')\n",
    "        myDict[i] += 1\n",
    "    else:\n",
    "        print(0, end=' ')\n",
    "        myDict[i] = 1"
   ]
  },
  {
   "cell_type": "code",
   "execution_count": null,
   "metadata": {},
   "outputs": [],
   "source": [
    "Вам дан словарь, состоящий из пар слов. Каждое слово является синонимом к парному ему слову. \n",
    "Все слова в словаре различны.\n",
    "Для слова из словаря, записанного в последней строке, определите его синоним."
   ]
  },
  {
   "cell_type": "code",
   "execution_count": 7,
   "metadata": {},
   "outputs": [
    {
     "name": "stdout",
     "output_type": "stream",
     "text": [
      "3\n",
      "Hello Hi\n",
      "Bye Goodbye\n",
      "List Array\n",
      "Goodbye\n",
      "Bye\n"
     ]
    }
   ],
   "source": [
    "myDict = dict()\n",
    "for i in range(int(input())):\n",
    "    m, n = input().split()\n",
    "    myDict[m] = n\n",
    "search = input()\n",
    "for key, val in myDict.items():\n",
    "    if val == search:\n",
    "        print(key)\n",
    "    elif key == search:\n",
    "        print(val)"
   ]
  },
  {
   "cell_type": "code",
   "execution_count": null,
   "metadata": {},
   "outputs": [],
   "source": [
    "Как известно, в США президент выбирается не прямым голосованием, а путем двухуровневого голосования. \n",
    "Сначала проводятся выборы в каждом штате и определяется победитель выборов в данном штате. \n",
    "Затем проводятся государственные выборы: на этих выборах каждый штат имеет определенное число голосов — \n",
    "число выборщиков от этого штата. На практике, все выборщики от штата голосуют в соответствии с результами \n",
    "голосования внутри штата, то есть на заключительной стадии выборов в голосовании участвуют штаты, \n",
    "имеющие различное число голосов.\n",
    "\n",
    "В первой строке дано количество записей. Далее, каждая запись содержит фамилию кандидата и число голосов, \n",
    "отданных за него в одном из штатов. Подведите итоги выборов: для каждого из участника голосования определите \n",
    "число отданных за него голосов. Участников нужно выводить в алфавитном порядке."
   ]
  },
  {
   "cell_type": "code",
   "execution_count": 9,
   "metadata": {},
   "outputs": [
    {
     "name": "stdout",
     "output_type": "stream",
     "text": [
      "3\n",
      "q 1\n",
      "a 2\n",
      "a 3\n",
      "a 5\n",
      "q 1\n"
     ]
    }
   ],
   "source": [
    "presidents = dict()\n",
    "N = int(input())\n",
    "for i in range(N):\n",
    "    name, count = input().split()\n",
    "    if name in presidents:\n",
    "        presidents[name] += int(count)\n",
    "    else:\n",
    "        presidents[name] = int(count)\n",
    "list_keys = list(presidents.keys())\n",
    "list_keys.sort()\n",
    "for i in list_keys:\n",
    "    print(i, presidents[i])"
   ]
  },
  {
   "cell_type": "code",
   "execution_count": null,
   "metadata": {},
   "outputs": [],
   "source": [
    "Дан текст: в первой строке задано число строк, далее идут сами строки. Выведите слово, которое в \n",
    "этом тексте встречается чаще всего. Если таких слов несколько, выведите то, которое меньше в лексикографическом \n",
    "порядке."
   ]
  },
  {
   "cell_type": "code",
   "execution_count": 79,
   "metadata": {},
   "outputs": [
    {
     "name": "stdout",
     "output_type": "stream",
     "text": [
      "1\n",
      "enagtgufzhnmyzkf kaphgquvoanw tkvj sylaejugfsv vuszbsdsv kmyyed rnhcdrpx b ejqa vykiu fjmdqlgxmameddhiytv yy owmldhdcjnoi durqhg ftjnehww aq ou tqxlcnxdpnmo ssdhbcdzzp twjdcvcojgtj\n",
      "aq\n"
     ]
    }
   ],
   "source": [
    "# \n",
    "words = dict()\n",
    "for i in range(int(input())):\n",
    "    for word in input().split():\n",
    "        if word in words:\n",
    "            words[word] += 1\n",
    "        else:\n",
    "            words[word] = 1\n",
    "sorted_words = {k: words[k] for k in sorted(words)}\n",
    "print(sorted(sorted_words.items(), key=lambda x: x[1], reverse=True)[0][0])"
   ]
  },
  {
   "cell_type": "code",
   "execution_count": null,
   "metadata": {},
   "outputs": [],
   "source": [
    "Дан текст: в первой строке задано число строк, далее идут сами строки. Выведите слово, \n",
    "которое в этом тексте встречается чаще всего. Если таких слов несколько, выведите то, \n",
    "которое меньше в лексикографическом порядке."
   ]
  },
  {
   "cell_type": "code",
   "execution_count": 86,
   "metadata": {},
   "outputs": [
    {
     "name": "stdout",
     "output_type": "stream",
     "text": [
      "1\n",
      "apple orange banana banana orange\n",
      "banana\n"
     ]
    }
   ],
   "source": [
    "words = dict()\n",
    "max = 0\n",
    "for i in range(int(input())):\n",
    "    for word in input().split():\n",
    "        if word in words:\n",
    "            words[word] += 1\n",
    "        else:\n",
    "            words[word] = 1\n",
    "        if words[word] > max:\n",
    "            max = words[word]\n",
    "for key, value in sorted(words.items()):\n",
    "    if value == max:\n",
    "        print(key) \n",
    "        break"
   ]
  },
  {
   "cell_type": "code",
   "execution_count": null,
   "metadata": {},
   "outputs": [],
   "source": [
    "В файловую систему одного суперкомпьютера проник вирус, который сломал контроль за правами доступа к файлам. \n",
    "Для каждого файла известно, с какими действиями можно к нему обращаться:\n",
    "\n",
    "запись W,\n",
    "чтение R,\n",
    "запуск X.\n",
    "\n",
    "В первой строке содержится число N — количество файлов содержащихся в данной файловой системе. \n",
    "В следующих N строчках содержатся имена файлов и допустимых с ними операций, разделенные пробелами. \n",
    "Далее указано чиcло M — количество запросов к файлам. В последних M строках указан запрос вида Операция Файл. \n",
    "К одному и тому же файлу может быть применено любое колличество запросов.\n",
    "\n",
    "Вам требуется восстановить контроль над правами доступа к файлам (ваша программа для каждого запроса должна \n",
    "будет возвращать OK если над файлом выполняется допустимая операция, или же Access denied, \n",
    "если операция недопустима.)"
   ]
  },
  {
   "cell_type": "code",
   "execution_count": 9,
   "metadata": {},
   "outputs": [
    {
     "name": "stdout",
     "output_type": "stream",
     "text": [
      "4\n",
      "helloworld.exe R X\n",
      "pinglog W R\n",
      "nya R\n",
      "goodluck X W R\n",
      "5\n",
      "read nya\n",
      "OK\n",
      "write helloworld.exe\n",
      "Access denied\n",
      "execute nya\n",
      "Access denied\n",
      "read pinglog\n",
      "OK\n",
      "write pinglog\n",
      "OK\n"
     ]
    }
   ],
   "source": [
    "main_dict = dict()\n",
    "N = int(input())\n",
    "for i in range(N):\n",
    "    data = input().split()\n",
    "    main_dict[data[0]] = data[1:]\n",
    "M = int(input())\n",
    "for i in range(M):\n",
    "    operation, file = input().split()\n",
    "    if operation == 'execute':\n",
    "        operation = 'X'\n",
    "    elif operation == 'read':\n",
    "        operation = 'R'\n",
    "    elif operation == 'write':\n",
    "        operation = 'W'\n",
    "    if operation in main_dict[file]:\n",
    "        print(\"OK\")\n",
    "    else:\n",
    "        print(\"Access denied\")"
   ]
  },
  {
   "cell_type": "code",
   "execution_count": null,
   "metadata": {},
   "outputs": [],
   "source": [
    "Дан текст: в первой строке записано количество строк в тексте, а затем сами строки. Выведите все слова, встречающиеся в тексте, \n",
    "по одному на каждую строку. Слова должны быть отсортированы по убыванию их количества появления в тексте, \n",
    "а при одинаковой частоте появления — в лексикографическом порядке.\n",
    "Указание. После того, как вы создадите словарь всех слов, вам захочется отсортировать его по частоте встречаемости слова. \n",
    "Желаемого можно добиться, если создать список, элементами которого будут кортежи из двух элементов: \n",
    "частота встречаемости слова и само слово. Например, [(2, 'hi'), (1, 'what'), (3, 'is')]. \n",
    "Тогда стандартная сортировка будет сортировать список кортежей, при этом кортежи сравниваются по первому элементу, \n",
    "а если они равны — то по второму. Это почти то, что требуется в задаче."
   ]
  },
  {
   "cell_type": "code",
   "execution_count": 3,
   "metadata": {},
   "outputs": [
    {
     "name": "stdout",
     "output_type": "stream",
     "text": [
      "9\n",
      "hi\n",
      "hi\n",
      "§\n",
      "sd\n",
      "cqw\n",
      "ve\n",
      "ew\n",
      "we\n",
      "\n",
      "hi\n",
      "cqw\n",
      "ew\n",
      "sd\n",
      "ve\n",
      "we\n",
      "§\n"
     ]
    }
   ],
   "source": [
    "n = int(input())\n",
    "words = dict()\n",
    "for i in range(n):\n",
    "    for word in input().split():\n",
    "        if word in words:\n",
    "            words[word] += 1\n",
    "        else:\n",
    "            words[word] = 1\n",
    "myArray = []\n",
    "for i in words:\n",
    "    myArray.append([words[i], i])\n",
    "\n",
    "\n",
    "def makeTuple(man):\n",
    "    return (-man[0], man[1])\n",
    "\n",
    "\n",
    "myArray.sort(key=makeTuple)\n",
    "for i in range(len(myArray)):\n",
    "    print(myArray[i][1])\n"
   ]
  },
  {
   "cell_type": "code",
   "execution_count": null,
   "metadata": {},
   "outputs": [],
   "source": []
  }
 ],
 "metadata": {
  "kernelspec": {
   "display_name": "Python 3",
   "language": "python",
   "name": "python3"
  },
  "language_info": {
   "codemirror_mode": {
    "name": "ipython",
    "version": 3
   },
   "file_extension": ".py",
   "mimetype": "text/x-python",
   "name": "python",
   "nbconvert_exporter": "python",
   "pygments_lexer": "ipython3",
   "version": "3.7.4"
  }
 },
 "nbformat": 4,
 "nbformat_minor": 4
}
