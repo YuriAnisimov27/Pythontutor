{
 "cells": [
  {
   "cell_type": "code",
   "execution_count": null,
   "metadata": {},
   "outputs": [],
   "source": [
    "Найдите индексы первого вхождения максимального элемента. Выведите два числа: номер строки и номер столбца, \n",
    "в которых стоит наибольший элемент в двумерном массиве. Если таких элементов несколько, то выводится тот, \n",
    "у которого меньше номер строки, а если номера строк равны то тот, у которого меньше номер столбца.\n",
    "Программа получает на вход размеры массива n и m, затем n строк по m чисел в каждой."
   ]
  },
  {
   "cell_type": "code",
   "execution_count": 9,
   "metadata": {},
   "outputs": [
    {
     "name": "stdout",
     "output_type": "stream",
     "text": [
      "4 5\n",
      "1 2 3 4 5\n",
      "1 2 3 4 5\n",
      "1 9 3 4 5\n",
      "1 2 3 4 5\n",
      "2 1\n"
     ]
    }
   ],
   "source": [
    "n, m = [int(s) for s in input().split()] \n",
    "a = [[int(j) for j in input().split()] for i in range(n)]\n",
    "k, l = 0, 0\n",
    "max = a[0][0]\n",
    "for i in range(n):\n",
    "    for j in range(m):\n",
    "        if a[i][j] > max:\n",
    "            k = i\n",
    "            l = j\n",
    "            max = a[i][j]\n",
    "            \n",
    "print(k, l)"
   ]
  },
  {
   "cell_type": "code",
   "execution_count": null,
   "metadata": {},
   "outputs": [],
   "source": [
    "Дано нечетное число n. Создайте двумерный массив из n×n элементов, заполнив его символами \".\" \n",
    "(каждый элемент массива является строкой из одного символа). Затем заполните символами \"*\" среднюю строку массива,\n",
    "средний столбец массива, главную диагональ и побочную диагональ. \n",
    "В результате единицы в массиве должны образовывать изображение звездочки. \n",
    "Выведите полученный массив на экран, разделяя элементы массива пробелами."
   ]
  },
  {
   "cell_type": "code",
   "execution_count": 4,
   "metadata": {},
   "outputs": [
    {
     "name": "stdout",
     "output_type": "stream",
     "text": [
      "9\n",
      "* . . . * . . . *\n",
      ". * . . * . . * .\n",
      ". . * . * . * . .\n",
      ". . . * * * . . .\n",
      "* * * * * * * * *\n",
      ". . . * * * . . .\n",
      ". . * . * . * . .\n",
      ". * . . * . . * .\n",
      "* . . . * . . . *\n"
     ]
    }
   ],
   "source": [
    "n = int(input()) \n",
    "a = [['.'] * n for i in range(n)]\n",
    "for i in range(n):\n",
    "    for j in range(n):\n",
    "        if i == (n // 2) or j == (n // 2):\n",
    "            a[i][j] = '*'\n",
    "        elif  i == j:\n",
    "            a[i][j] = '*'\n",
    "        elif j + i == n - 1:\n",
    "            a[i][j] = '*'\n",
    "\n",
    "for row in a:\n",
    "    print(' '.join([str(elem) for elem in row]))"
   ]
  },
  {
   "cell_type": "code",
   "execution_count": null,
   "metadata": {},
   "outputs": [],
   "source": [
    "Даны два числа n и m. Создайте двумерный массив размером n×m и заполните его символами \".\" и \"*\" \n",
    "в шахматном порядке. В левом верхнем углу должна стоять точка."
   ]
  },
  {
   "cell_type": "code",
   "execution_count": 12,
   "metadata": {},
   "outputs": [
    {
     "name": "stdout",
     "output_type": "stream",
     "text": [
      "8 9\n",
      ". * . * . * . * .\n",
      "* . * . * . * . *\n",
      ". * . * . * . * .\n",
      "* . * . * . * . *\n",
      ". * . * . * . * .\n",
      "* . * . * . * . *\n",
      ". * . * . * . * .\n",
      "* . * . * . * . *\n"
     ]
    }
   ],
   "source": [
    "n, m = [int(s) for s in input().split()] \n",
    "a = [['.'] * m for i in range(n)]\n",
    "\n",
    "for i in range(0, n, 2):\n",
    "    for j in range(1, m, 2):\n",
    "        a[i][j] = '*'\n",
    "for i in range(1, n, 2):\n",
    "    for j in range(0, m, 2):\n",
    "        a[i][j] = '*'\n",
    "\n",
    "for row in a:\n",
    "    print(' '.join([str(elem) for elem in row]))"
   ]
  },
  {
   "cell_type": "code",
   "execution_count": null,
   "metadata": {},
   "outputs": [],
   "source": [
    "Дано число n. Создайте массив размером n×n и заполните его по следующему правилу. \n",
    "На главной диагонали должны быть записаны числа 0. На двух диагоналях, прилегающих к главной, числа 1. \n",
    "На следующих двух диагоналях числа 2, и т.д."
   ]
  },
  {
   "cell_type": "code",
   "execution_count": 31,
   "metadata": {},
   "outputs": [
    {
     "name": "stdout",
     "output_type": "stream",
     "text": [
      "7\n",
      "0 1 2 3 4 5 6\n",
      "1 0 1 2 3 4 5\n",
      "2 1 0 1 2 3 4\n",
      "3 2 1 0 1 2 3\n",
      "4 3 2 1 0 1 2\n",
      "5 4 3 2 1 0 1\n",
      "6 5 4 3 2 1 0\n"
     ]
    }
   ],
   "source": [
    "n = int(input()) \n",
    "a = [[0] * n for i in range(n)]\n",
    "for i in range(n):\n",
    "    k = 1\n",
    "    for j in range(i + 1, n):\n",
    "        a[i][j] = k\n",
    "        k += 1\n",
    "        \n",
    "for i in range(n):\n",
    "    k = 1\n",
    "    for j in range(i - 1, -1, -1):\n",
    "        a[i][j] = k\n",
    "        k += 1\n",
    "        \n",
    "for row in a:\n",
    "    print(' '.join([str(elem) for elem in row]))"
   ]
  },
  {
   "cell_type": "code",
   "execution_count": null,
   "metadata": {},
   "outputs": [],
   "source": [
    "Дано число n. Создайте массив размером n×n и заполните его по следующему правилу:\n",
    "Числа на диагонали, идущей из правого верхнего в левый нижний угол равны 1.\n",
    "Числа, стоящие выше этой диагонали, равны 0.\n",
    "Числа, стоящие ниже этой диагонали, равны 2.\n",
    "Полученный массив выведите на экран. Числа в строке разделяйте одним пробелом."
   ]
  },
  {
   "cell_type": "code",
   "execution_count": 42,
   "metadata": {},
   "outputs": [
    {
     "name": "stdout",
     "output_type": "stream",
     "text": [
      "8\n",
      "0 0 0 0 0 0 0 1\n",
      "0 0 0 0 0 0 1 2\n",
      "0 0 0 0 0 1 2 2\n",
      "0 0 0 0 1 2 2 2\n",
      "0 0 0 1 2 2 2 2\n",
      "0 0 1 2 2 2 2 2\n",
      "0 1 2 2 2 2 2 2\n",
      "1 2 2 2 2 2 2 2\n"
     ]
    }
   ],
   "source": [
    "n = int(input())\n",
    "a = [0] * n\n",
    "a = [[0] * (n - i - 1) + [1] + [2] * (i) for i in range(n)]\n",
    "for row in a:\n",
    "    print(' '.join([str(elem) for elem in row]))"
   ]
  },
  {
   "cell_type": "code",
   "execution_count": null,
   "metadata": {},
   "outputs": [],
   "source": [
    "Дан двумерный массив и два числа: i и j. Поменяйте в массиве столбцы с номерами i и j и выведите результат.\n",
    "Программа получает на вход размеры массива n и m, затем элементы массива, затем числа i и j.\n",
    "Решение оформите в виде функции swap_columns(a, i, j)."
   ]
  },
  {
   "cell_type": "code",
   "execution_count": 51,
   "metadata": {},
   "outputs": [
    {
     "name": "stdout",
     "output_type": "stream",
     "text": [
      "3 4\n",
      "11 12 13 14\n",
      "21 22 23 24\n",
      "31 32 33 34\n",
      "0 3\n",
      "14 12 13 11\n",
      "24 22 23 21\n",
      "34 32 33 31\n"
     ]
    }
   ],
   "source": [
    "n, m = [int(s) for s in input().split()] \n",
    "a = [[int(j) for j in input().split()] for i in range(n)]\n",
    "i, j = [int(s) for s in input().split()]\n",
    "def swap_columns(a1, i1, j1):\n",
    "    for l in range(n):\n",
    "        a[l][i1], a[l][j1] = a[l][j1], a[l][i1]\n",
    "    \n",
    "swap_columns(a, i, j)    \n",
    "    \n",
    "for row in a:\n",
    "    print(' '.join([str(elem) for elem in row]))"
   ]
  }
 ],
 "metadata": {
  "kernelspec": {
   "display_name": "Python 3",
   "language": "python",
   "name": "python3"
  },
  "language_info": {
   "codemirror_mode": {
    "name": "ipython",
    "version": 3
   },
   "file_extension": ".py",
   "mimetype": "text/x-python",
   "name": "python",
   "nbconvert_exporter": "python",
   "pygments_lexer": "ipython3",
   "version": "3.7.4"
  }
 },
 "nbformat": 4,
 "nbformat_minor": 4
}
