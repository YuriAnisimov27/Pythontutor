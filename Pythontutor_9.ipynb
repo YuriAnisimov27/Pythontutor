{
 "cells": [
  {
   "cell_type": "code",
   "execution_count": null,
   "metadata": {},
   "outputs": [],
   "source": [
    "Найдите индексы первого вхождения максимального элемента. Выведите два числа: номер строки и номер столбца, \n",
    "в которых стоит наибольший элемент в двумерном массиве. Если таких элементов несколько, то выводится тот, \n",
    "у которого меньше номер строки, а если номера строк равны то тот, у которого меньше номер столбца.\n",
    "Программа получает на вход размеры массива n и m, затем n строк по m чисел в каждой."
   ]
  },
  {
   "cell_type": "code",
   "execution_count": 9,
   "metadata": {},
   "outputs": [
    {
     "name": "stdout",
     "output_type": "stream",
     "text": [
      "4 5\n",
      "1 2 3 4 5\n",
      "1 2 3 4 5\n",
      "1 9 3 4 5\n",
      "1 2 3 4 5\n",
      "2 1\n"
     ]
    }
   ],
   "source": [
    "n, m = [int(s) for s in input().split()] \n",
    "a = [[int(j) for j in input().split()] for i in range(n)]\n",
    "k, l = 0, 0\n",
    "max = a[0][0]\n",
    "for i in range(n):\n",
    "    for j in range(m):\n",
    "        if a[i][j] > max:\n",
    "            k = i\n",
    "            l = j\n",
    "            max = a[i][j]\n",
    "            \n",
    "print(k, l)"
   ]
  },
  {
   "cell_type": "code",
   "execution_count": null,
   "metadata": {},
   "outputs": [],
   "source": [
    "Дано нечетное число n. Создайте двумерный массив из n×n элементов, заполнив его символами \".\" \n",
    "(каждый элемент массива является строкой из одного символа). Затем заполните символами \"*\" среднюю строку массива,\n",
    "средний столбец массива, главную диагональ и побочную диагональ. \n",
    "В результате единицы в массиве должны образовывать изображение звездочки. \n",
    "Выведите полученный массив на экран, разделяя элементы массива пробелами."
   ]
  },
  {
   "cell_type": "code",
   "execution_count": 4,
   "metadata": {},
   "outputs": [
    {
     "name": "stdout",
     "output_type": "stream",
     "text": [
      "9\n",
      "* . . . * . . . *\n",
      ". * . . * . . * .\n",
      ". . * . * . * . .\n",
      ". . . * * * . . .\n",
      "* * * * * * * * *\n",
      ". . . * * * . . .\n",
      ". . * . * . * . .\n",
      ". * . . * . . * .\n",
      "* . . . * . . . *\n"
     ]
    }
   ],
   "source": [
    "n = int(input()) \n",
    "a = [['.'] * n for i in range(n)]\n",
    "for i in range(n):\n",
    "    for j in range(n):\n",
    "        if i == (n // 2) or j == (n // 2):\n",
    "            a[i][j] = '*'\n",
    "        elif  i == j:\n",
    "            a[i][j] = '*'\n",
    "        elif j + i == n - 1:\n",
    "            a[i][j] = '*'\n",
    "\n",
    "for row in a:\n",
    "    print(' '.join([str(elem) for elem in row]))"
   ]
  },
  {
   "cell_type": "code",
   "execution_count": null,
   "metadata": {},
   "outputs": [],
   "source": []
  },
  {
   "cell_type": "code",
   "execution_count": null,
   "metadata": {},
   "outputs": [],
   "source": []
  },
  {
   "cell_type": "code",
   "execution_count": null,
   "metadata": {},
   "outputs": [],
   "source": []
  },
  {
   "cell_type": "code",
   "execution_count": null,
   "metadata": {},
   "outputs": [],
   "source": []
  },
  {
   "cell_type": "code",
   "execution_count": null,
   "metadata": {},
   "outputs": [],
   "source": []
  }
 ],
 "metadata": {
  "kernelspec": {
   "display_name": "Python 3",
   "language": "python",
   "name": "python3"
  },
  "language_info": {
   "codemirror_mode": {
    "name": "ipython",
    "version": 3
   },
   "file_extension": ".py",
   "mimetype": "text/x-python",
   "name": "python",
   "nbconvert_exporter": "python",
   "pygments_lexer": "ipython3",
   "version": "3.7.4"
  }
 },
 "nbformat": 4,
 "nbformat_minor": 4
}
