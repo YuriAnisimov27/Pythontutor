{
 "cells": [
  {
   "cell_type": "code",
   "execution_count": null,
   "metadata": {},
   "outputs": [],
   "source": [
    "Дано число n. С начала суток прошло n минут. \n",
    "Определите, сколько часов и минут будут показывать электронные часы в этот момент. \n",
    "Программа должна вывести два числа: количество часов (от 0 до 23) и количество минут (от 0 до 59). \n",
    "Учтите, что число n может быть больше, чем количество минут в сутках."
   ]
  },
  {
   "cell_type": "code",
   "execution_count": 7,
   "metadata": {},
   "outputs": [
    {
     "name": "stdout",
     "output_type": "stream",
     "text": [
      "1500\n",
      "1 0\n"
     ]
    }
   ],
   "source": [
    "n = int(input())\n",
    "e = n % 1440 #в сутках 1440 минут\n",
    "hours = e // 60 \n",
    "minutes = e % 60\n",
    "print(hours, minutes)"
   ]
  },
  {
   "cell_type": "code",
   "execution_count": null,
   "metadata": {},
   "outputs": [],
   "source": [
    "В школе решили набрать три новых математических класса. Так как занятия по математике у них проходят \n",
    "в одно и то же время, было решено выделить кабинет для каждого класса и купить в них новые парты. \n",
    "За каждой партой может сидеть не больше двух учеников. Известно количество учащихся в каждом из трёх классов. \n",
    "Сколько всего нужно закупить парт чтобы их хватило на всех учеников? \n",
    "Программа получает на вход три натуральных числа: количество учащихся в каждом из трех классов."
   ]
  },
  {
   "cell_type": "code",
   "execution_count": 9,
   "metadata": {},
   "outputs": [
    {
     "name": "stdout",
     "output_type": "stream",
     "text": [
      "20\n",
      "21\n",
      "22\n",
      "32\n"
     ]
    }
   ],
   "source": [
    "n1 = int(input())\n",
    "n2 = int(input())\n",
    "n3 = int(input())\n",
    "class1 = n1 % 2 + n1 // 2 \n",
    "class2 = n2 % 2 + n2 // 2\n",
    "class3 = n3 % 2 + n3 // 2\n",
    "print(class1 + class2 + class3)"
   ]
  },
  {
   "cell_type": "code",
   "execution_count": null,
   "metadata": {},
   "outputs": [],
   "source": [
    "Обувная фабрика собирается начать выпуск элитной модели ботинок.\n",
    "Дырочки для шнуровки будут расположены в два ряда, расстояние между рядами равно a,\n",
    "а расстояние между дырочками в ряду b. Количество дырочек в каждом ряду равно N. \n",
    "Шнуровка должна происходить элитным способом “наверх, по горизонтали в другой ряд, \n",
    "наверх, по горизонтали и т.д.” (см. рисунок). # которого нет))\n",
    "Кроме того, чтобы шнурки можно было завязать элитным бантиком, длина свободного конца шнурка должна быть l. \n",
    "Какова должна быть длина шнурка для этих ботинок?\n",
    "Программа получает на вход четыре натуральных числа a, b, l и N - именно в таком порядке - \n",
    "и должна вывести одно число - искомую длину шнурка."
   ]
  },
  {
   "cell_type": "code",
   "execution_count": 23,
   "metadata": {},
   "outputs": [
    {
     "name": "stdout",
     "output_type": "stream",
     "text": [
      "10\n",
      "20\n",
      "30\n",
      "40\n",
      "2410\n"
     ]
    }
   ],
   "source": [
    "a = int(input())\n",
    "b = int(input())\n",
    "l = int(input())\n",
    "N = int(input())\n",
    "length = (2*(a+b)*(N-1)+2*l+a)\n",
    "print(length)"
   ]
  }
 ],
 "metadata": {
  "kernelspec": {
   "display_name": "Python 3",
   "language": "python",
   "name": "python3"
  },
  "language_info": {
   "codemirror_mode": {
    "name": "ipython",
    "version": 3
   },
   "file_extension": ".py",
   "mimetype": "text/x-python",
   "name": "python",
   "nbconvert_exporter": "python",
   "pygments_lexer": "ipython3",
   "version": "3.7.4"
  }
 },
 "nbformat": 4,
 "nbformat_minor": 4
}
