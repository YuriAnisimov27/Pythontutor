{
 "cells": [
  {
   "cell_type": "code",
   "execution_count": null,
   "metadata": {},
   "outputs": [],
   "source": [
    "Даны четыре действительных числа: x1, y1, x2, y2. Напишите функцию distance(x1, y1, x2, y2), вычисляющая расстояние между точкой (x1,y1) и (x2,y2). Считайте четыре действительных числа и выведите результат работы этой функции.\n",
    "Если вы не знаете, как решить эту задачу, то вы, возможно, не изучали в школе теорему Пифагора. "
   ]
  },
  {
   "cell_type": "code",
   "execution_count": 7,
   "metadata": {},
   "outputs": [
    {
     "name": "stdout",
     "output_type": "stream",
     "text": [
      "0\n",
      "0\n",
      "1\n",
      "1\n",
      "1.4142135623730951\n"
     ]
    }
   ],
   "source": [
    "x1, y1, x2, y2 = float(input()), float(input()), float(input()), float(input())\n",
    "def distance(x1, y1, x2, y2):\n",
    "    return ((x1-x2)**2 + (y1-y2)**2)**0.5\n",
    "print(distance(x1, y1, x2, y2))"
   ]
  },
  {
   "cell_type": "code",
   "execution_count": null,
   "metadata": {},
   "outputs": [],
   "source": [
    "Дано действительное положительное число a и целоe число n.\n",
    "Вычислите an. Решение оформите в виде функции power(a, n).\n",
    "Стандартной функцией возведения в степень пользоваться нельзя."
   ]
  },
  {
   "cell_type": "code",
   "execution_count": 12,
   "metadata": {},
   "outputs": [
    {
     "name": "stdout",
     "output_type": "stream",
     "text": [
      "2\n",
      "-3\n",
      "0.125\n"
     ]
    }
   ],
   "source": [
    "a, n = float(input()), float(input())\n",
    "def power(a, n):\n",
    "    if n == 0:\n",
    "        return 1\n",
    "    elif n>0:\n",
    "        return a * power(a, n - 1)\n",
    "    else:\n",
    "        return 1 / a * power(a, n + 1)\n",
    "print(power(a, n))"
   ]
  },
  {
   "cell_type": "code",
   "execution_count": null,
   "metadata": {},
   "outputs": [],
   "source": [
    "Напишите функцию capitalize(), которая принимает слово из маленьких латинских букв и возвращает его же,\n",
    "меняя первую букву на большую.\n",
    "Например, print(capitalize('word')) должно печатать слово Word.\n",
    "На вход подаётся строка, состоящая из слов, разделённых одним пробелом. Слова состоят из маленьких латинских букв. \n",
    "Напечатайте исходную строку, сделав так, чтобы каждое слово начиналось с большой буквы.\n",
    "При этом используйте вашу функцию capitalize().\n",
    "Напомним, что в Питоне есть функция ord(), которая по символу возвращает его код в таблице ASCII, и функция chr(),\n",
    "которая по коду символа возвращает сам символ. Например, ord('a') == 97, chr(97) == 'a'."
   ]
  },
  {
   "cell_type": "code",
   "execution_count": 24,
   "metadata": {},
   "outputs": [
    {
     "name": "stdout",
     "output_type": "stream",
     "text": [
      "harry potter\n",
      "Harry Potter"
     ]
    }
   ],
   "source": [
    "s = input()\n",
    "def capitalize(s):\n",
    "    print(s[0].capitalize(), end='')\n",
    "    for i in range(0, len(s)-1):\n",
    "        if s[i] != ' ':            \n",
    "            print(s[i+1], end='')\n",
    "        else:\n",
    "            print(s[i+1].capitalize(), end='')\n",
    "capitalize(s)"
   ]
  },
  {
   "cell_type": "code",
   "execution_count": null,
   "metadata": {},
   "outputs": [],
   "source": []
  },
  {
   "cell_type": "code",
   "execution_count": null,
   "metadata": {},
   "outputs": [],
   "source": []
  }
 ],
 "metadata": {
  "kernelspec": {
   "display_name": "Python 3",
   "language": "python",
   "name": "python3"
  },
  "language_info": {
   "codemirror_mode": {
    "name": "ipython",
    "version": 3
   },
   "file_extension": ".py",
   "mimetype": "text/x-python",
   "name": "python",
   "nbconvert_exporter": "python",
   "pygments_lexer": "ipython3",
   "version": "3.7.4"
  }
 },
 "nbformat": 4,
 "nbformat_minor": 4
}
