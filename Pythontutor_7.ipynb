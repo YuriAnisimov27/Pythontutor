{
 "cells": [
  {
   "cell_type": "code",
   "execution_count": null,
   "metadata": {},
   "outputs": [],
   "source": [
    "Выведите все элементы списка с четными индексами (то есть A[0], A[2], A[4], ...)."
   ]
  },
  {
   "cell_type": "code",
   "execution_count": 4,
   "metadata": {},
   "outputs": [
    {
     "name": "stdout",
     "output_type": "stream",
     "text": [
      "1 2 3 4 5 6\n",
      "1 3 5 "
     ]
    }
   ],
   "source": [
    "A = input().split()\n",
    "for i in range(0, len(A), 2):\n",
    "    print(A[i], end=' ')"
   ]
  },
  {
   "cell_type": "code",
   "execution_count": null,
   "metadata": {},
   "outputs": [],
   "source": [
    "Выведите все четные элементы списка. При этом используйте цикл for, перебирающий элементы списка, а не их индексы!"
   ]
  },
  {
   "cell_type": "code",
   "execution_count": 7,
   "metadata": {},
   "outputs": [
    {
     "name": "stdout",
     "output_type": "stream",
     "text": [
      "1 2 3 4 5 6\n",
      "2 4 6 "
     ]
    }
   ],
   "source": [
    "A = input().split()\n",
    "for i in range(0, len(A)):\n",
    "    if int(A[i]) % 2 == 0:\n",
    "        print(A[i], end=' ')"
   ]
  },
  {
   "cell_type": "code",
   "execution_count": null,
   "metadata": {},
   "outputs": [],
   "source": [
    "Дан список чисел. Выведите все элементы списка, которые больше предыдущего элемента."
   ]
  },
  {
   "cell_type": "code",
   "execution_count": 8,
   "metadata": {},
   "outputs": [
    {
     "name": "stdout",
     "output_type": "stream",
     "text": [
      "1 3 2 5 4 7 6\n",
      "3 5 7 "
     ]
    }
   ],
   "source": [
    "A = input().split()\n",
    "for i in range(1, len(A)):\n",
    "    if int(A[i]) > int(A[i-1]):\n",
    "        print(A[i], end=' ')"
   ]
  },
  {
   "cell_type": "code",
   "execution_count": null,
   "metadata": {},
   "outputs": [],
   "source": [
    "Дан список чисел. Если в нем есть два соседних элемента одного знака, выведите эти числа.\n",
    "Если соседних элементов одного знака нет — не выводите ничего.\n",
    "Если таких пар соседей несколько — выведите первую пару."
   ]
  },
  {
   "cell_type": "code",
   "execution_count": 1,
   "metadata": {},
   "outputs": [
    {
     "name": "stdout",
     "output_type": "stream",
     "text": [
      " 1 -2 3 5 -7 -8\n",
      "3 5 "
     ]
    }
   ],
   "source": [
    "A = input().split()\n",
    "for i in range(1, len(A)):\n",
    "    if int(A[i]) > 0 and int(A[i-1]) > 0:\n",
    "        print(A[i-1], A[i], end=' ')\n",
    "        break\n",
    "    elif int(A[i]) < 0 and int(A[i-1]) < 0:\n",
    "        print(A[i-1], A[i], end=' ')\n",
    "        break"
   ]
  },
  {
   "cell_type": "code",
   "execution_count": null,
   "metadata": {},
   "outputs": [],
   "source": [
    "Дан список чисел. Определите, сколько в этом списке элементов, которые больше двух своих соседей, \n",
    "и выведите количество таких элементов. Крайние элементы списка никогда не учитываются, \n",
    "поскольку у них недостаточно соседей."
   ]
  },
  {
   "cell_type": "code",
   "execution_count": 4,
   "metadata": {},
   "outputs": [
    {
     "name": "stdout",
     "output_type": "stream",
     "text": [
      "1 2 3 4 5 6\n",
      "0\n"
     ]
    }
   ],
   "source": [
    "A = input().split()\n",
    "k = 0\n",
    "for i in range(1, len(A)-1):\n",
    "    if int(A[i-1]) < int(A[i]) and int(A[i]) > int(A[i+1]):\n",
    "        k += 1\n",
    "print(k)"
   ]
  },
  {
   "cell_type": "code",
   "execution_count": null,
   "metadata": {},
   "outputs": [],
   "source": [
    "Дан список чисел. Выведите значение наибольшего элемента в списке, а затем индекс этого элемента в списке.\n",
    "Если наибольших элементов несколько, выведите индекс первого из них."
   ]
  },
  {
   "cell_type": "code",
   "execution_count": 16,
   "metadata": {},
   "outputs": [
    {
     "name": "stdout",
     "output_type": "stream",
     "text": [
      "1 2 3 4 3 2\n",
      "4\n",
      "3\n"
     ]
    }
   ],
   "source": [
    "s = input().split()\n",
    "max = s[0]\n",
    "for i in range(1, len(s)):\n",
    "    if int(s[i]) > int(max):\n",
    "        max = s[i]\n",
    "print(max)\n",
    "print(s.index(max))"
   ]
  },
  {
   "cell_type": "code",
   "execution_count": null,
   "metadata": {},
   "outputs": [],
   "source": [
    "Петя перешёл в другую школу. На уроке физкультуры ему понадобилось определить своё место в строю. \n",
    "Помогите ему это сделать.\n",
    "Программа получает на вход невозрастающую последовательность натуральных чисел, \n",
    "означающих рост каждого человека в строю. После этого вводится число X – рост Пети.\n",
    "Все числа во входных данных натуральные и не превышают 200.\n",
    "Выведите номер, под которым Петя должен встать в строй. Если в строю есть люди с одинаковым ростом, таким же, \n",
    "как у Пети, то он должен встать после них."
   ]
  },
  {
   "cell_type": "code",
   "execution_count": 22,
   "metadata": {},
   "outputs": [
    {
     "name": "stdout",
     "output_type": "stream",
     "text": [
      "165 163 160 160 157 157 155 154\n",
      "160\n",
      "5\n"
     ]
    }
   ],
   "source": [
    "s = input().split()\n",
    "x = int(input())\n",
    "a = []\n",
    "for i in range(0, len(s)):\n",
    "    if int(s[i]) >= x:\n",
    "        a.append(s[i])\n",
    "print(len(a)+1)"
   ]
  },
  {
   "cell_type": "code",
   "execution_count": null,
   "metadata": {},
   "outputs": [],
   "source": [
    "Дан список, упорядоченный по неубыванию элементов в нем. Определите, сколько в нем различных элементов."
   ]
  },
  {
   "cell_type": "code",
   "execution_count": 25,
   "metadata": {},
   "outputs": [
    {
     "name": "stdout",
     "output_type": "stream",
     "text": [
      "1 1 2 2 2 3 4 5 6 7\n",
      "7\n"
     ]
    }
   ],
   "source": [
    "a = [int(i) for i in input().split()]\n",
    "count = 1\n",
    "for i in range(len(a)-1):\n",
    "    if int(a[i]) < int(a[i+1]):\n",
    "        count += 1\n",
    "print(count)"
   ]
  },
  {
   "cell_type": "code",
   "execution_count": null,
   "metadata": {},
   "outputs": [],
   "source": [
    "Переставьте соседние элементы списка (A[0] c A[1], A[2] c A[3] и т. д.).\n",
    "Если элементов нечетное число, то последний элемент остается на своем месте."
   ]
  },
  {
   "cell_type": "code",
   "execution_count": 30,
   "metadata": {},
   "outputs": [
    {
     "name": "stdout",
     "output_type": "stream",
     "text": [
      "1 2 3 4 5 6 7\n",
      "2 1 4 3 6 5 7 "
     ]
    }
   ],
   "source": [
    "A = [int(i) for i in input().split()]\n",
    "for i in range(1, len(A), 2):\n",
    "    A[i], A[i-1] = A[i-1], A[i]\n",
    "for i in A:\n",
    "    print(i, end=' ')"
   ]
  },
  {
   "cell_type": "code",
   "execution_count": null,
   "metadata": {},
   "outputs": [],
   "source": [
    "В списке все элементы различны. Поменяйте местами минимальный и максимальный элемент этого списка."
   ]
  },
  {
   "cell_type": "code",
   "execution_count": 46,
   "metadata": {},
   "outputs": [
    {
     "name": "stdout",
     "output_type": "stream",
     "text": [
      "3 4 5 2 1\n",
      "3 4 1 2 5\n"
     ]
    }
   ],
   "source": [
    "A = [int(i) for i in input().split()]\n",
    "maxI = A.index(max(A))\n",
    "minI = A.index(min(A))\n",
    "A[maxI], A[minI] = A[minI], A[maxI]\n",
    "print(' '.join([str(i) for i in A]))"
   ]
  },
  {
   "cell_type": "code",
   "execution_count": null,
   "metadata": {},
   "outputs": [],
   "source": [
    "Дан список из чисел и индекс элемента в списке k. Удалите из списка элемент с индексом k,\n",
    "сдвинув влево все элементы, стоящие правее элемента с индексом k.\n",
    "Программа получает на вход список, затем число k. Программа сдвигает все элементы,\n",
    "а после этого удаляет последний элемент списка при помощи метода pop() без параметров.\n",
    "Программа должна осуществлять сдвиг непосредственно в списке, а не делать это при выводе элементов. \n",
    "Также нельзя использовать дополнительный список. Также не следует использовать метод pop(k) с параметром."
   ]
  },
  {
   "cell_type": "code",
   "execution_count": 7,
   "metadata": {},
   "outputs": [
    {
     "name": "stdout",
     "output_type": "stream",
     "text": [
      "7 6 5 4 3 2 1\n",
      "2\n",
      "7 6 4 3 2 1\n"
     ]
    }
   ],
   "source": [
    "A = [int(i) for i in input().split()]\n",
    "k = int(input())\n",
    "for i in range (k, len(A)-1):\n",
    "    A[i] = A[i+1]\n",
    "A.pop()\n",
    "print(' '.join([str(i) for i in A]))"
   ]
  },
  {
   "cell_type": "code",
   "execution_count": null,
   "metadata": {},
   "outputs": [],
   "source": [
    "Дан список целых чисел, число k и значение C. Необходимо вставить в список на позицию с индексом k элемент,\n",
    "равный C, сдвинув все элементы, имевшие индекс не менее k, вправо.\n",
    "Поскольку при этом количество элементов в списке увеличивается,\n",
    "после считывания списка в его конец нужно будет добавить новый элемент, используя метод append.\n",
    "Вставку необходимо осуществлять уже в считанном списке, не делая этого при выводе\n",
    "и не создавая дополнительного списка."
   ]
  },
  {
   "cell_type": "code",
   "execution_count": 25,
   "metadata": {},
   "outputs": [
    {
     "name": "stdout",
     "output_type": "stream",
     "text": [
      "4 6 2 4 3 5 12 24 3 5\n",
      "4 22\n",
      "4 6 2 4 22 3 5 12 24 3 5\n"
     ]
    }
   ],
   "source": [
    "A = [int(i) for i in input().split()]\n",
    "kC = [int(i) for i in input().split()]\n",
    "A.append(kC[1])\n",
    "for i in range(len(A)-1, kC[0], -1):\n",
    "    A[i] = A[i-1]\n",
    "A[kC[0]] = kC[1]\n",
    "print(' '.join([str(i) for i in A]))"
   ]
  },
  {
   "cell_type": "code",
   "execution_count": null,
   "metadata": {},
   "outputs": [],
   "source": [
    "Дан список чисел. Посчитайте, сколько в нем пар элементов, равных друг другу.\n",
    "Считается, что любые два элемента, равные друг другу образуют одну пару, которую необходимо посчитать."
   ]
  },
  {
   "cell_type": "code",
   "execution_count": 8,
   "metadata": {},
   "outputs": [
    {
     "name": "stdout",
     "output_type": "stream",
     "text": [
      "0 0 6 1 1 4 2 1 2 2\n",
      "7\n"
     ]
    }
   ],
   "source": [
    "A = [int(i) for i in input().split()]\n",
    "count = 0\n",
    "for i in range(0, len(A)):\n",
    "    for j in range(i+1, len(A)):\n",
    "        if int(A[i]) == int(A[j]):\n",
    "            count += 1\n",
    "print(count)"
   ]
  },
  {
   "cell_type": "code",
   "execution_count": null,
   "metadata": {},
   "outputs": [],
   "source": []
  },
  {
   "cell_type": "code",
   "execution_count": null,
   "metadata": {},
   "outputs": [],
   "source": []
  },
  {
   "cell_type": "code",
   "execution_count": null,
   "metadata": {},
   "outputs": [],
   "source": []
  }
 ],
 "metadata": {
  "kernelspec": {
   "display_name": "Python 3",
   "language": "python",
   "name": "python3"
  },
  "language_info": {
   "codemirror_mode": {
    "name": "ipython",
    "version": 3
   },
   "file_extension": ".py",
   "mimetype": "text/x-python",
   "name": "python",
   "nbconvert_exporter": "python",
   "pygments_lexer": "ipython3",
   "version": "3.7.4"
  }
 },
 "nbformat": 4,
 "nbformat_minor": 4
}
