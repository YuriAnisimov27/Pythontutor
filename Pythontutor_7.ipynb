{
 "cells": [
  {
   "cell_type": "code",
   "execution_count": null,
   "metadata": {},
   "outputs": [],
   "source": [
    "Выведите все элементы списка с четными индексами (то есть A[0], A[2], A[4], ...)."
   ]
  },
  {
   "cell_type": "code",
   "execution_count": 4,
   "metadata": {},
   "outputs": [
    {
     "name": "stdout",
     "output_type": "stream",
     "text": [
      "1 2 3 4 5 6\n",
      "1 3 5 "
     ]
    }
   ],
   "source": [
    "A = input().split()\n",
    "for i in range(0, len(A), 2):\n",
    "    print(A[i], end=' ')"
   ]
  },
  {
   "cell_type": "code",
   "execution_count": null,
   "metadata": {},
   "outputs": [],
   "source": [
    "Выведите все четные элементы списка. При этом используйте цикл for, перебирающий элементы списка, а не их индексы!"
   ]
  },
  {
   "cell_type": "code",
   "execution_count": 7,
   "metadata": {},
   "outputs": [
    {
     "name": "stdout",
     "output_type": "stream",
     "text": [
      "1 2 3 4 5 6\n",
      "2 4 6 "
     ]
    }
   ],
   "source": [
    "A = input().split()\n",
    "for i in range(0, len(A)):\n",
    "    if int(A[i]) % 2 == 0:\n",
    "        print(A[i], end=' ')"
   ]
  },
  {
   "cell_type": "code",
   "execution_count": null,
   "metadata": {},
   "outputs": [],
   "source": [
    "Дан список чисел. Выведите все элементы списка, которые больше предыдущего элемента."
   ]
  },
  {
   "cell_type": "code",
   "execution_count": 8,
   "metadata": {},
   "outputs": [
    {
     "name": "stdout",
     "output_type": "stream",
     "text": [
      "1 3 2 5 4 7 6\n",
      "3 5 7 "
     ]
    }
   ],
   "source": [
    "A = input().split()\n",
    "for i in range(1, len(A)):\n",
    "    if int(A[i]) > int(A[i-1]):\n",
    "        print(A[i], end=' ')"
   ]
  },
  {
   "cell_type": "code",
   "execution_count": null,
   "metadata": {},
   "outputs": [],
   "source": [
    "Дан список чисел. Если в нем есть два соседних элемента одного знака, выведите эти числа.\n",
    "Если соседних элементов одного знака нет — не выводите ничего.\n",
    "Если таких пар соседей несколько — выведите первую пару."
   ]
  },
  {
   "cell_type": "code",
   "execution_count": 1,
   "metadata": {},
   "outputs": [
    {
     "name": "stdout",
     "output_type": "stream",
     "text": [
      " 1 -2 3 5 -7 -8\n",
      "3 5 "
     ]
    }
   ],
   "source": [
    "A = input().split()\n",
    "for i in range(1, len(A)):\n",
    "    if int(A[i]) > 0 and int(A[i-1]) > 0:\n",
    "        print(A[i-1], A[i], end=' ')\n",
    "        break\n",
    "    elif int(A[i]) < 0 and int(A[i-1]) < 0:\n",
    "        print(A[i-1], A[i], end=' ')\n",
    "        break"
   ]
  },
  {
   "cell_type": "code",
   "execution_count": null,
   "metadata": {},
   "outputs": [],
   "source": [
    "Дан список чисел. Определите, сколько в этом списке элементов, которые больше двух своих соседей, \n",
    "и выведите количество таких элементов. Крайние элементы списка никогда не учитываются, \n",
    "поскольку у них недостаточно соседей."
   ]
  },
  {
   "cell_type": "code",
   "execution_count": 4,
   "metadata": {},
   "outputs": [
    {
     "name": "stdout",
     "output_type": "stream",
     "text": [
      "1 2 3 4 5 6\n",
      "0\n"
     ]
    }
   ],
   "source": [
    "A = input().split()\n",
    "k = 0\n",
    "for i in range(1, len(A)-1):\n",
    "    if int(A[i-1]) < int(A[i]) and int(A[i]) > int(A[i+1]):\n",
    "        k += 1\n",
    "print(k)"
   ]
  },
  {
   "cell_type": "code",
   "execution_count": null,
   "metadata": {},
   "outputs": [],
   "source": [
    "Дан список чисел. Выведите значение наибольшего элемента в списке, а затем индекс этого элемента в списке.\n",
    "Если наибольших элементов несколько, выведите индекс первого из них."
   ]
  },
  {
   "cell_type": "code",
   "execution_count": 16,
   "metadata": {},
   "outputs": [
    {
     "name": "stdout",
     "output_type": "stream",
     "text": [
      "1 2 3 4 3 2\n",
      "4\n",
      "3\n"
     ]
    }
   ],
   "source": [
    "s = input().split()\n",
    "max = s[0]\n",
    "for i in range(1, len(s)):\n",
    "    if int(s[i]) > int(max):\n",
    "        max = s[i]\n",
    "print(max)\n",
    "print(s.index(max))"
   ]
  },
  {
   "cell_type": "code",
   "execution_count": null,
   "metadata": {},
   "outputs": [],
   "source": [
    "Петя перешёл в другую школу. На уроке физкультуры ему понадобилось определить своё место в строю. \n",
    "Помогите ему это сделать.\n",
    "Программа получает на вход невозрастающую последовательность натуральных чисел, \n",
    "означающих рост каждого человека в строю. После этого вводится число X – рост Пети.\n",
    "Все числа во входных данных натуральные и не превышают 200.\n",
    "Выведите номер, под которым Петя должен встать в строй. Если в строю есть люди с одинаковым ростом, таким же, \n",
    "как у Пети, то он должен встать после них."
   ]
  },
  {
   "cell_type": "code",
   "execution_count": 22,
   "metadata": {},
   "outputs": [
    {
     "name": "stdout",
     "output_type": "stream",
     "text": [
      "165 163 160 160 157 157 155 154\n",
      "160\n",
      "5\n"
     ]
    }
   ],
   "source": [
    "s = input().split()\n",
    "x = int(input())\n",
    "a = []\n",
    "for i in range(0, len(s)):\n",
    "    if int(s[i]) >= x:\n",
    "        a.append(s[i])\n",
    "print(len(a)+1)"
   ]
  },
  {
   "cell_type": "code",
   "execution_count": null,
   "metadata": {},
   "outputs": [],
   "source": []
  },
  {
   "cell_type": "code",
   "execution_count": null,
   "metadata": {},
   "outputs": [],
   "source": []
  },
  {
   "cell_type": "code",
   "execution_count": null,
   "metadata": {},
   "outputs": [],
   "source": []
  },
  {
   "cell_type": "code",
   "execution_count": null,
   "metadata": {},
   "outputs": [],
   "source": []
  }
 ],
 "metadata": {
  "kernelspec": {
   "display_name": "Python 3",
   "language": "python",
   "name": "python3"
  },
  "language_info": {
   "codemirror_mode": {
    "name": "ipython",
    "version": 3
   },
   "file_extension": ".py",
   "mimetype": "text/x-python",
   "name": "python",
   "nbconvert_exporter": "python",
   "pygments_lexer": "ipython3",
   "version": "3.7.4"
  }
 },
 "nbformat": 4,
 "nbformat_minor": 4
}
