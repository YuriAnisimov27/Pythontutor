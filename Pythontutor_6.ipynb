{
 "cells": [
  {
   "cell_type": "code",
   "execution_count": null,
   "metadata": {},
   "outputs": [],
   "source": [
    "По данному целому числу N распечатайте все квадраты натуральных чисел, не превосходящие N, в порядке возрастания."
   ]
  },
  {
   "cell_type": "code",
   "execution_count": 4,
   "metadata": {},
   "outputs": [
    {
     "name": "stdout",
     "output_type": "stream",
     "text": [
      "50\n",
      "1 4 9 16 25 36 49 "
     ]
    }
   ],
   "source": [
    "N = int(input())\n",
    "i = 1\n",
    "while i**2 <= N:\n",
    "    print(i**2, end=' ')\n",
    "    i+=1"
   ]
  },
  {
   "cell_type": "code",
   "execution_count": null,
   "metadata": {},
   "outputs": [],
   "source": [
    "Дано целое число, не меньшее 2. Выведите его наименьший натуральный делитель, отличный от 1."
   ]
  },
  {
   "cell_type": "code",
   "execution_count": 7,
   "metadata": {},
   "outputs": [
    {
     "name": "stdout",
     "output_type": "stream",
     "text": [
      "14\n",
      "2\n"
     ]
    }
   ],
   "source": [
    "N = int(input())\n",
    "i = 2\n",
    "while N % i != 0:\n",
    "    i+=1\n",
    "print(i)"
   ]
  },
  {
   "cell_type": "code",
   "execution_count": null,
   "metadata": {},
   "outputs": [],
   "source": [
    "По данному натуральному числу N найдите наибольшую целую степень двойки, не превосходящую N. \n",
    "Выведите показатель степени и саму степень.\n",
    "\n",
    "Операцией возведения в степень пользоваться нельзя!"
   ]
  },
  {
   "cell_type": "code",
   "execution_count": 19,
   "metadata": {},
   "outputs": [
    {
     "name": "stdout",
     "output_type": "stream",
     "text": [
      "50\n",
      "5 32\n"
     ]
    }
   ],
   "source": [
    "N = int(input())\n",
    "n = 0\n",
    "k = 1\n",
    "while k <= N:\n",
    "    k *= 2\n",
    "    n += 1\n",
    "print(n-1, k//2)"
   ]
  },
  {
   "cell_type": "code",
   "execution_count": null,
   "metadata": {},
   "outputs": [],
   "source": [
    "В первый день спортсмен пробежал x километров, а затем он каждый день увеличивал пробег на 10% от предыдущего \n",
    "значения. По данному числу y определите номер дня, на который пробег спортсмена составит не менее y километров.\n",
    "Программа получает на вход действительные числа x и y и должна вывести одно натуральное число."
   ]
  },
  {
   "cell_type": "code",
   "execution_count": 1,
   "metadata": {},
   "outputs": [
    {
     "name": "stdout",
     "output_type": "stream",
     "text": [
      "10\n",
      "20\n",
      "9\n"
     ]
    }
   ],
   "source": [
    "x, y = int(input()), int(input())\n",
    "i = 1\n",
    "while x < y:\n",
    "    x += 0.1*x\n",
    "    i += 1\n",
    "print(i)"
   ]
  },
  {
   "cell_type": "code",
   "execution_count": null,
   "metadata": {},
   "outputs": [],
   "source": [
    "Программа получает на вход последовательность целых неотрицательных чисел, каждое число записано в отдельной строке. \n",
    "Последовательность завершается числом 0, при считывании которого программа должна закончить свою работу и\n",
    "вывести количество членов последовательности (не считая завершающего числа 0).\n",
    "Числа, следующие за числом 0, считывать не нужно"
   ]
  },
  {
   "cell_type": "code",
   "execution_count": 3,
   "metadata": {},
   "outputs": [
    {
     "name": "stdout",
     "output_type": "stream",
     "text": [
      "1\n",
      "2\n",
      "3\n",
      "4\n",
      "5\n",
      "0\n",
      "5\n"
     ]
    }
   ],
   "source": [
    "s = int(input())\n",
    "i = 0\n",
    "while s != 0:\n",
    "    s = int(input())\n",
    "    i += 1\n",
    "print(i)"
   ]
  },
  {
   "cell_type": "code",
   "execution_count": null,
   "metadata": {},
   "outputs": [],
   "source": [
    "Определите сумму всех элементов последовательности, завершающейся числом 0. В этой и во всех следующих задачах \n",
    "числа, следующие за первым нулем, учитывать не нужно."
   ]
  },
  {
   "cell_type": "code",
   "execution_count": 4,
   "metadata": {},
   "outputs": [
    {
     "name": "stdout",
     "output_type": "stream",
     "text": [
      "1\n",
      "2\n",
      "3\n",
      "4\n",
      "5\n",
      "0\n",
      "15\n"
     ]
    }
   ],
   "source": [
    "s = int(input())\n",
    "i = s\n",
    "while s != 0:\n",
    "    s = int(input())\n",
    "    i += s\n",
    "print(i)"
   ]
  },
  {
   "cell_type": "code",
   "execution_count": null,
   "metadata": {},
   "outputs": [],
   "source": [
    "Определите среднее значение всех элементов последовательности, завершающейся числом 0."
   ]
  },
  {
   "cell_type": "code",
   "execution_count": 5,
   "metadata": {},
   "outputs": [
    {
     "name": "stdout",
     "output_type": "stream",
     "text": [
      "1\n",
      "2\n",
      "3\n",
      "0\n",
      "2.0\n"
     ]
    }
   ],
   "source": [
    "s = int(input())\n",
    "i = s\n",
    "k = 0\n",
    "while s != 0:\n",
    "    s = int(input())\n",
    "    i += s\n",
    "    k += 1\n",
    "print(i/k)"
   ]
  },
  {
   "cell_type": "code",
   "execution_count": null,
   "metadata": {},
   "outputs": [],
   "source": []
  },
  {
   "cell_type": "code",
   "execution_count": null,
   "metadata": {},
   "outputs": [],
   "source": []
  }
 ],
 "metadata": {
  "kernelspec": {
   "display_name": "Python 3",
   "language": "python",
   "name": "python3"
  },
  "language_info": {
   "codemirror_mode": {
    "name": "ipython",
    "version": 3
   },
   "file_extension": ".py",
   "mimetype": "text/x-python",
   "name": "python",
   "nbconvert_exporter": "python",
   "pygments_lexer": "ipython3",
   "version": "3.7.4"
  }
 },
 "nbformat": 4,
 "nbformat_minor": 4
}
