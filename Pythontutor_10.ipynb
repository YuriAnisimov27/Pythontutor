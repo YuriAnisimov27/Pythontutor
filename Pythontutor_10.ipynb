{
 "cells": [
  {
   "cell_type": "code",
   "execution_count": null,
   "metadata": {},
   "outputs": [],
   "source": [
    "Дан список чисел. Определите, сколько в нем встречается различных чисел.\n",
    "Примечание. Эту задачу на Питоне можно решить в одну строчку."
   ]
  },
  {
   "cell_type": "code",
   "execution_count": 4,
   "metadata": {},
   "outputs": [
    {
     "name": "stdout",
     "output_type": "stream",
     "text": [
      "1 1 1 2 2 3\n",
      "3\n"
     ]
    }
   ],
   "source": [
    "print(len(set(input().split())))"
   ]
  },
  {
   "cell_type": "code",
   "execution_count": null,
   "metadata": {},
   "outputs": [],
   "source": [
    "Даны два списка чисел. Посчитайте, сколько чисел содержится одновременно как в первом списке, так и во втором.\n",
    "Примечание. Эту задачу на Питоне можно решить в одну строчку."
   ]
  },
  {
   "cell_type": "code",
   "execution_count": 9,
   "metadata": {},
   "outputs": [
    {
     "name": "stdout",
     "output_type": "stream",
     "text": [
      "1 2 3 4 5\n",
      "1 3 5 6\n",
      "3\n"
     ]
    }
   ],
   "source": [
    "print(len(set(input().split())&set(input().split())))"
   ]
  },
  {
   "cell_type": "code",
   "execution_count": null,
   "metadata": {},
   "outputs": [],
   "source": [
    "Даны два списка чисел. Найдите все числа, которые входят как в первый, \n",
    "так и во второй список и выведите их в порядке возрастания.\n",
    "Примечание. И даже эту задачу на Питоне можно решить в одну строчку."
   ]
  },
  {
   "cell_type": "code",
   "execution_count": 62,
   "metadata": {},
   "outputs": [
    {
     "name": "stdout",
     "output_type": "stream",
     "text": [
      "1 2 6 4 5 7\n",
      "10 2 3 4 8\n",
      "2 4\n"
     ]
    }
   ],
   "source": [
    "print(*sorted(set(input().split()) & set(input().split()), key=int))"
   ]
  },
  {
   "cell_type": "code",
   "execution_count": null,
   "metadata": {},
   "outputs": [],
   "source": [
    "Во входной строке записана последовательность чисел через пробел. \n",
    "Для каждого числа выведите слово YES (в отдельной строке),\n",
    "если это число ранее встречалось в последовательности или NO, если не встречалось."
   ]
  },
  {
   "cell_type": "code",
   "execution_count": 64,
   "metadata": {},
   "outputs": [
    {
     "name": "stdout",
     "output_type": "stream",
     "text": [
      "1 1 1 2 22 3 4 2\n",
      "NO\n",
      "YES\n",
      "YES\n",
      "NO\n",
      "NO\n",
      "NO\n",
      "NO\n",
      "YES\n"
     ]
    }
   ],
   "source": [
    "a = [int(i) for i in input().split()]\n",
    "b = set()\n",
    "for i in a:\n",
    "    if i in b:\n",
    "        print(\"YES\")\n",
    "    else:\n",
    "        print(\"NO\")\n",
    "    b.add(i)"
   ]
  },
  {
   "cell_type": "code",
   "execution_count": null,
   "metadata": {},
   "outputs": [],
   "source": [
    "Аня и Боря любят играть в разноцветные кубики, причем у каждого из них свой набор и в каждом наборе \n",
    "все кубики различны по цвету. Однажды дети заинтересовались, сколько существуют цветов таких, \n",
    "что кубики каждого цвета присутствуют в обоих наборах. \n",
    "Для этого они занумеровали все цвета случайными числами от 0 до 108. На этом их энтузиазм иссяк, \n",
    "поэтому вам предлагается помочь им в оставшейся части.\n",
    "В первой строке входных данных записаны числа N и M — число кубиков у Ани и Бори. \n",
    "В следующих N строках заданы номера цветов кубиков Ани. В последних M строках номера цветов Бори.\n",
    "Найдите три множества: номера цветов кубиков, которые есть в обоих наборах; номера цветов кубиков, \n",
    "которые есть только у Ани и номера цветов кубиков, которые есть только у Бори. \n",
    "Для каждого из множеств выведите сначала количество элементов в нем, а затем сами элементы, \n",
    "отсортированные по возрастанию."
   ]
  },
  {
   "cell_type": "code",
   "execution_count": 1,
   "metadata": {},
   "outputs": [
    {
     "name": "stdout",
     "output_type": "stream",
     "text": [
      "4 4\n",
      "4\n",
      "3\n",
      "2\n",
      "1\n",
      "8\n",
      "2\n",
      "6\n",
      "4\n",
      "2\n",
      "2 4\n",
      "2\n",
      "1 3\n",
      "2\n",
      "6 8\n"
     ]
    }
   ],
   "source": [
    "n, m = [int(s) for s in input().split()] \n",
    "a = [int(input()) for i in range(n)]\n",
    "b = [int(input()) for i in range(m)]\n",
    "\n",
    "print(len(set(a) & set(b)))\n",
    "print(*sorted(set(a) & set(b), key=int))\n",
    "\n",
    "print(len(set(a) - set(b)))\n",
    "print(*sorted(set(a) - set(b), key=int))\n",
    "\n",
    "print(len(set(b) - set(a)))\n",
    "print(*sorted(set(b) - set(a), key=int))"
   ]
  },
  {
   "cell_type": "code",
   "execution_count": null,
   "metadata": {},
   "outputs": [],
   "source": [
    "Дан текст: в первой строке записано число строк, далее идут сами строки. \n",
    "Определите, сколько различных слов содержится в этом тексте.\n",
    "\n",
    "Словом считается последовательность непробельных символов идущих подряд, \n",
    "слова разделены одним или большим числом пробелов или символами конца строки."
   ]
  },
  {
   "cell_type": "code",
   "execution_count": 2,
   "metadata": {},
   "outputs": [
    {
     "name": "stdout",
     "output_type": "stream",
     "text": [
      "4\n",
      "She sells sea shells on the sea shore;\n",
      "The shells that she sells are sea shells I'm sure.\n",
      "So if she sells sea shells on the sea shore,\n",
      "I'm sure that the shells are sea shore shells.\n",
      "19\n"
     ]
    }
   ],
   "source": [
    "n = int(input())\n",
    "a = [input().split() for i in range(n)]\n",
    "b = set()\n",
    "for i in a:\n",
    "    b = b | set(i)    \n",
    "print(len(b))"
   ]
  },
  {
   "cell_type": "code",
   "execution_count": null,
   "metadata": {},
   "outputs": [],
   "source": [
    "Август и Беатриса играют в игру. Август загадал натуральное число от 1 до n. \n",
    "Беатриса пытается угадать это число, для этого она называет некоторые множества натуральных чисел. \n",
    "Август отвечает Беатрисе YES, если среди названных ей чисел есть задуманное или NO в противном случае. \n",
    "После нескольких заданныъх вопросов Беатриса запуталась в том, \n",
    "какие вопросы она задавала и какие ответы получила и просит вас помочь ей определить, \n",
    "какие числа мог задумать Август.\n",
    "В первой строке задано n - максимальное число, которое мог загадать Август. \n",
    "Далее каждая строка содержит вопрос Беатрисы (множество чисел, разделенных пробелом) и ответ Августа на этот вопрос.\n",
    "Вы должны вывести через пробел, в порядке возрастания, все числа, которые мог задумать Август."
   ]
  },
  {
   "cell_type": "code",
   "execution_count": null,
   "metadata": {},
   "outputs": [],
   "source": [
    "n = int(input())\n",
    "a = [i for i in range(1, n + 1)]\n",
    "b = input().split()\n",
    "c = set(a)\n",
    "while b[0] != 'HELP':\n",
    "    answer = input()\n",
    "    if answer == 'YES':\n",
    "        c = c & set([int(s) for s in b])\n",
    "    elif answer == 'NO':\n",
    "        c = c - set([int(s) for s in b])\n",
    "    b = input().split()\n",
    "    \n",
    "print(*sorted(c, key=int))"
   ]
  },
  {
   "cell_type": "code",
   "execution_count": null,
   "metadata": {},
   "outputs": [],
   "source": [
    "Август и Беатриса продолжают играть в игру, но Август начал жульничать. На каждый из вопросов Беатрисы \n",
    "он выбирает такой вариант ответа YES или NO, чтобы множество возможных задуманных чисел оставалось как можно больше. Например, если Август задумал число от 1 до 5, а Беатриса спросила про числа 1 и 2, то Август ответит NO, а если Беатриса спросит про 1, 2, 3, то Август ответит YES.\n",
    "Если же Бетриса в своем вопросе перечисляет ровно половину из задуманных чисел, \n",
    "то Август из вредности всегда отвечает NO. Наконец, Август при ответе учитывает все предыдущие вопросы Беатрисы\n",
    "и свои ответы на них, то есть множество возможных задуманных чисел уменьшается.\n",
    "Первая строка содержит наибольшее число, которое мог загадать Август. \n",
    "Каждая следующая строка содержит очередной вопрос Беатрисы: набор чисел, разделенных пробелами. \n",
    "Последняя строка входных данных содержит одно слово HELP.\n",
    "Для каждого вопроса Беатрисы выведите ответ Августа на этот вопрос. \n",
    "После этого выведите через пробел, в порядке возрастания, все числа, \n",
    "которые мог загадать Август после ответа на все вопросы Беатрисы."
   ]
  },
  {
   "cell_type": "code",
   "execution_count": 1,
   "metadata": {},
   "outputs": [
    {
     "name": "stdout",
     "output_type": "stream",
     "text": [
      "10\n",
      "1 2 3 4 5\n",
      "NO\n",
      "2 4 6 8 10\n",
      "YES\n",
      "HELP\n",
      "6 8 10\n"
     ]
    }
   ],
   "source": [
    "n = int(input())\n",
    "a = [i for i in range(1, n + 1)]\n",
    "b = input().split()\n",
    "c = set(a)\n",
    "while b[0] != 'HELP':\n",
    "    d = len(c & set([int(s) for s in b]))\n",
    "    if d > len(c)/2:\n",
    "        print('YES')\n",
    "        c = c & set([int(s) for s in b])\n",
    "    else:\n",
    "        print('NO')\n",
    "        c = c - set([int(s) for s in b])\n",
    "    b = input().split()\n",
    "print(*sorted(c, key=int))"
   ]
  },
  {
   "cell_type": "code",
   "execution_count": null,
   "metadata": {},
   "outputs": [],
   "source": [
    "Каждый из некоторого множества школьников некоторой школы знает некоторое количество языков. \n",
    "Нужно определить сколько языков знают все школьники, и сколько языков знает хотя бы один из школьников.\n",
    "В первой строке задано количество школьников. Для каждого из школьников сперва записано количество языков, \n",
    "которое он знает, а затем - названия языков, по одному в строке.\n",
    "В первой строке выведите количество языков, которые знают все школьники. \n",
    "Начиная со второй строки - список таких языков. Затем - количество языков, которые знает хотя бы один школьник, \n",
    "на следующих строках - список таких языков. Языки нужно выводить в лексикографическом порядке, по одному на строке."
   ]
  },
  {
   "cell_type": "code",
   "execution_count": 32,
   "metadata": {},
   "outputs": [
    {
     "name": "stdout",
     "output_type": "stream",
     "text": [
      "4\n",
      "3\n",
      "r\n",
      "s\n",
      "g\n",
      "3\n",
      "r\n",
      "g\n",
      "s\n",
      "3\n",
      "s\n",
      "r\n",
      "g\n",
      "3\n",
      "g\n",
      "r\n",
      "s\n",
      "3\n",
      "g\n",
      "r\n",
      "s\n",
      "3\n",
      "g\n",
      "r\n",
      "s\n"
     ]
    }
   ],
   "source": [
    "allSchoolchildrenKnow = set()\n",
    "totalLanguages = set()\n",
    "n = int(input())\n",
    "a = int(input())\n",
    "b = [input() for i in range(a)]\n",
    "totalLanguages = totalLanguages | set(b)\n",
    "allSchoolchildrenKnow = set(b)\n",
    "for i in range(n - 1):\n",
    "    a = int(input())\n",
    "    b = [input() for i in range(a)]\n",
    "    totalLanguages = totalLanguages | set(b)\n",
    "    allSchoolchildrenKnow = allSchoolchildrenKnow & set(b)\n",
    "allSchoolchildrenKnow = sorted(allSchoolchildrenKnow)\n",
    "print(len(allSchoolchildrenKnow))\n",
    "for i in allSchoolchildrenKnow:\n",
    "    print(i)\n",
    "totalLanguages = sorted(totalLanguages)\n",
    "print(len(totalLanguages))\n",
    "for i in totalLanguages:\n",
    "    print(i)"
   ]
  },
  {
   "cell_type": "code",
   "execution_count": null,
   "metadata": {},
   "outputs": [],
   "source": [
    "Политическая жизнь одной страны очень оживленная. В стране действует K политических партий, \n",
    "каждая из которых регулярно объявляет национальную забастовку. \n",
    "Дни, когда хотя бы одна из партий объявляет забастовку, при условии, что это не суббота или воскресенье \n",
    "(когда и так никто не работает), наносят большой ущерб экономике страны.\n",
    "i-я партия объявляет забастовки строго каждые b_i дней, начиная с дня с номером a_i. \n",
    "То есть i-я партия объявляет забастовки в дни a_i, a_i + b_i, a_i + 2 * b_i и т.д. \n",
    "Если в какой-то день несколько партий объявляет забастовку, то это считается одной общенациональной забастовкой.\n",
    "В календаре страны N дней, пронумерованных, начиная с единицы. \n",
    "Первый день года является понедельником, шестой и седьмой дни года — выходные, неделя состоит из семи дней.\n",
    "В первой строке даны числа N и K. Далее идет K строк, описывающие графики проведения забастовок. \n",
    "i-я строка содержит числа a_i и b_i. Вам нужно определить число забастовок, \n",
    "произошедших в этой стране в течении года."
   ]
  },
  {
   "cell_type": "code",
   "execution_count": 27,
   "metadata": {},
   "outputs": [
    {
     "name": "stdout",
     "output_type": "stream",
     "text": [
      "5 2\n",
      "1 2\n",
      "2 2\n",
      "5\n"
     ]
    }
   ],
   "source": [
    "N, K = [int(s) for s in input().split()]\n",
    "weekends = []\n",
    "day = 6\n",
    "while day <= N:\n",
    "    weekends.append(day)\n",
    "    weekends.append(day + 1)\n",
    "    day += 7\n",
    "    \n",
    "workingDays = []\n",
    "for i in range(K):\n",
    "    firstDay, increment = [int(s) for s in input().split()]\n",
    "    if increment != 0:\n",
    "        for j in range (firstDay, N + 1, increment):\n",
    "            workingDays.append(j)\n",
    "\n",
    "print(len(set(workingDays)-set(weekends)))"
   ]
  }
 ],
 "metadata": {
  "kernelspec": {
   "display_name": "Python 3",
   "language": "python",
   "name": "python3"
  },
  "language_info": {
   "codemirror_mode": {
    "name": "ipython",
    "version": 3
   },
   "file_extension": ".py",
   "mimetype": "text/x-python",
   "name": "python",
   "nbconvert_exporter": "python",
   "pygments_lexer": "ipython3",
   "version": "3.7.4"
  }
 },
 "nbformat": 4,
 "nbformat_minor": 4
}
