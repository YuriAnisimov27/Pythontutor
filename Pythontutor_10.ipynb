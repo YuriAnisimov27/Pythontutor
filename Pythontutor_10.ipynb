{
 "cells": [
  {
   "cell_type": "code",
   "execution_count": null,
   "metadata": {},
   "outputs": [],
   "source": [
    "Дан список чисел. Определите, сколько в нем встречается различных чисел.\n",
    "Примечание. Эту задачу на Питоне можно решить в одну строчку."
   ]
  },
  {
   "cell_type": "code",
   "execution_count": 4,
   "metadata": {},
   "outputs": [
    {
     "name": "stdout",
     "output_type": "stream",
     "text": [
      "1 1 1 2 2 3\n",
      "3\n"
     ]
    }
   ],
   "source": [
    "print(len(set(input().split())))"
   ]
  },
  {
   "cell_type": "code",
   "execution_count": null,
   "metadata": {},
   "outputs": [],
   "source": [
    "Даны два списка чисел. Посчитайте, сколько чисел содержится одновременно как в первом списке, так и во втором.\n",
    "Примечание. Эту задачу на Питоне можно решить в одну строчку."
   ]
  },
  {
   "cell_type": "code",
   "execution_count": 9,
   "metadata": {},
   "outputs": [
    {
     "name": "stdout",
     "output_type": "stream",
     "text": [
      "1 2 3 4 5\n",
      "1 3 5 6\n",
      "3\n"
     ]
    }
   ],
   "source": [
    "print(len(set(input().split())&set(input().split())))"
   ]
  },
  {
   "cell_type": "code",
   "execution_count": null,
   "metadata": {},
   "outputs": [],
   "source": [
    "Даны два списка чисел. Найдите все числа, которые входят как в первый, \n",
    "так и во второй список и выведите их в порядке возрастания.\n",
    "Примечание. И даже эту задачу на Питоне можно решить в одну строчку."
   ]
  },
  {
   "cell_type": "code",
   "execution_count": 62,
   "metadata": {},
   "outputs": [
    {
     "name": "stdout",
     "output_type": "stream",
     "text": [
      "1 2 6 4 5 7\n",
      "10 2 3 4 8\n",
      "2 4\n"
     ]
    }
   ],
   "source": [
    "print(*sorted(set(input().split()) & set(input().split()), key=int))"
   ]
  },
  {
   "cell_type": "code",
   "execution_count": null,
   "metadata": {},
   "outputs": [],
   "source": [
    "Во входной строке записана последовательность чисел через пробел. \n",
    "Для каждого числа выведите слово YES (в отдельной строке),\n",
    "если это число ранее встречалось в последовательности или NO, если не встречалось."
   ]
  },
  {
   "cell_type": "code",
   "execution_count": 64,
   "metadata": {},
   "outputs": [
    {
     "name": "stdout",
     "output_type": "stream",
     "text": [
      "1 1 1 2 22 3 4 2\n",
      "NO\n",
      "YES\n",
      "YES\n",
      "NO\n",
      "NO\n",
      "NO\n",
      "NO\n",
      "YES\n"
     ]
    }
   ],
   "source": [
    "a = [int(i) for i in input().split()]\n",
    "b = set()\n",
    "for i in a:\n",
    "    if i in b:\n",
    "        print(\"YES\")\n",
    "    else:\n",
    "        print(\"NO\")\n",
    "    b.add(i)"
   ]
  },
  {
   "cell_type": "code",
   "execution_count": null,
   "metadata": {},
   "outputs": [],
   "source": [
    "Аня и Боря любят играть в разноцветные кубики, причем у каждого из них свой набор и в каждом наборе \n",
    "все кубики различны по цвету. Однажды дети заинтересовались, сколько существуют цветов таких, \n",
    "что кубики каждого цвета присутствуют в обоих наборах. \n",
    "Для этого они занумеровали все цвета случайными числами от 0 до 108. На этом их энтузиазм иссяк, \n",
    "поэтому вам предлагается помочь им в оставшейся части.\n",
    "В первой строке входных данных записаны числа N и M — число кубиков у Ани и Бори. \n",
    "В следующих N строках заданы номера цветов кубиков Ани. В последних M строках номера цветов Бори.\n",
    "Найдите три множества: номера цветов кубиков, которые есть в обоих наборах; номера цветов кубиков, \n",
    "которые есть только у Ани и номера цветов кубиков, которые есть только у Бори. \n",
    "Для каждого из множеств выведите сначала количество элементов в нем, а затем сами элементы, \n",
    "отсортированные по возрастанию."
   ]
  },
  {
   "cell_type": "code",
   "execution_count": 1,
   "metadata": {},
   "outputs": [
    {
     "name": "stdout",
     "output_type": "stream",
     "text": [
      "4 4\n",
      "4\n",
      "3\n",
      "2\n",
      "1\n",
      "8\n",
      "2\n",
      "6\n",
      "4\n",
      "2\n",
      "2 4\n",
      "2\n",
      "1 3\n",
      "2\n",
      "6 8\n"
     ]
    }
   ],
   "source": [
    "n, m = [int(s) for s in input().split()] \n",
    "a = [int(input()) for i in range(n)]\n",
    "b = [int(input()) for i in range(m)]\n",
    "\n",
    "print(len(set(a) & set(b)))\n",
    "print(*sorted(set(a) & set(b), key=int))\n",
    "\n",
    "print(len(set(a) - set(b)))\n",
    "print(*sorted(set(a) - set(b), key=int))\n",
    "\n",
    "print(len(set(b) - set(a)))\n",
    "print(*sorted(set(b) - set(a), key=int))"
   ]
  },
  {
   "cell_type": "code",
   "execution_count": null,
   "metadata": {},
   "outputs": [],
   "source": [
    "Дан текст: в первой строке записано число строк, далее идут сами строки. \n",
    "Определите, сколько различных слов содержится в этом тексте.\n",
    "\n",
    "Словом считается последовательность непробельных символов идущих подряд, \n",
    "слова разделены одним или большим числом пробелов или символами конца строки."
   ]
  },
  {
   "cell_type": "code",
   "execution_count": 2,
   "metadata": {},
   "outputs": [
    {
     "name": "stdout",
     "output_type": "stream",
     "text": [
      "4\n",
      "She sells sea shells on the sea shore;\n",
      "The shells that she sells are sea shells I'm sure.\n",
      "So if she sells sea shells on the sea shore,\n",
      "I'm sure that the shells are sea shore shells.\n",
      "19\n"
     ]
    }
   ],
   "source": [
    "n = int(input())\n",
    "a = [input().split() for i in range(n)]\n",
    "b = set()\n",
    "for i in a:\n",
    "    b = b | set(i)    \n",
    "print(len(b))"
   ]
  },
  {
   "cell_type": "code",
   "execution_count": null,
   "metadata": {},
   "outputs": [],
   "source": []
  },
  {
   "cell_type": "code",
   "execution_count": null,
   "metadata": {},
   "outputs": [],
   "source": []
  },
  {
   "cell_type": "code",
   "execution_count": null,
   "metadata": {},
   "outputs": [],
   "source": []
  },
  {
   "cell_type": "code",
   "execution_count": null,
   "metadata": {},
   "outputs": [],
   "source": []
  },
  {
   "cell_type": "code",
   "execution_count": null,
   "metadata": {},
   "outputs": [],
   "source": []
  }
 ],
 "metadata": {
  "kernelspec": {
   "display_name": "Python 3",
   "language": "python",
   "name": "python3"
  },
  "language_info": {
   "codemirror_mode": {
    "name": "ipython",
    "version": 3
   },
   "file_extension": ".py",
   "mimetype": "text/x-python",
   "name": "python",
   "nbconvert_exporter": "python",
   "pygments_lexer": "ipython3",
   "version": "3.7.4"
  }
 },
 "nbformat": 4,
 "nbformat_minor": 4
}
