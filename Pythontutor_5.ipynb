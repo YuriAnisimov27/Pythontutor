{
 "cells": [
  {
   "cell_type": "code",
   "execution_count": null,
   "metadata": {},
   "outputs": [],
   "source": [
    "Дана строка.\n",
    "Сначала выведите третий символ этой строки.\n",
    "Во второй строке выведите предпоследний символ этой строки.\n",
    "В третьей строке выведите первые пять символов этой строки.\n",
    "В четвертой строке выведите всю строку, кроме последних двух символов.\n",
    "В пятой строке выведите все символы с четными индексами (считая, что индексация начинается с 0, поэтому символы выводятся начиная с первого).\n",
    "В шестой строке выведите все символы с нечетными индексами, то есть начиная со второго символа строки.\n",
    "В седьмой строке выведите все символы в обратном порядке.\n",
    "В восьмой строке выведите все символы строки через один в обратном порядке, начиная с последнего.\n",
    "В девятой строке выведите длину данной строки."
   ]
  },
  {
   "cell_type": "code",
   "execution_count": 12,
   "metadata": {},
   "outputs": [
    {
     "name": "stdout",
     "output_type": "stream",
     "text": [
      "Abrakadabra\n",
      "r\n",
      "r\n",
      "Abrak\n",
      "Abrakadab\n",
      "Arkdba\n",
      "baaar\n",
      "arbadakarbA\n",
      "abdkrA\n",
      "11\n"
     ]
    }
   ],
   "source": [
    "S = input()\n",
    "print(S[2])\n",
    "print(S[-2])\n",
    "print(S[:5])\n",
    "print(S[:-2])\n",
    "print(S[::2])\n",
    "print(S[1::2])\n",
    "print(S[::-1])\n",
    "print(S[::-2])\n",
    "print(len(S))"
   ]
  },
  {
   "cell_type": "code",
   "execution_count": null,
   "metadata": {},
   "outputs": [],
   "source": [
    "Дана строка, состоящая из слов, разделенных пробелами. Определите, сколько в ней слов.\n",
    "Используйте для решения задачи метод count."
   ]
  },
  {
   "cell_type": "code",
   "execution_count": 14,
   "metadata": {},
   "outputs": [
    {
     "name": "stdout",
     "output_type": "stream",
     "text": [
      "Hello world\n",
      "2\n"
     ]
    }
   ],
   "source": [
    "s = input()\n",
    "c = s.count(' ')\n",
    "print(int(c) + 1)"
   ]
  },
  {
   "cell_type": "code",
   "execution_count": null,
   "metadata": {},
   "outputs": [],
   "source": [
    "Дана строка. Разрежьте ее на две равные части (если длина строки — четная, а если длина строки нечетная, \n",
    "то длина первой части должна быть на один символ больше). Переставьте эти две части местами,\n",
    "результат запишите в новую строку и выведите на экран.\n",
    "При решении этой задачи не стоит пользоваться инструкцией if."
   ]
  },
  {
   "cell_type": "code",
   "execution_count": 20,
   "metadata": {},
   "outputs": [
    {
     "name": "stdout",
     "output_type": "stream",
     "text": [
      "qwertyu\n",
      "tyuqwer\n"
     ]
    }
   ],
   "source": [
    "import math\n",
    "s = input()\n",
    "s1 = math.ceil(len(s)/2)\n",
    "print(s[s1:] + s[:s1])"
   ]
  },
  {
   "cell_type": "code",
   "execution_count": null,
   "metadata": {},
   "outputs": [],
   "source": [
    "Дана строка, состоящая ровно из двух слов, разделенных пробелом. Переставьте эти слова местами.\n",
    "Результат запишите в строку и выведите получившуюся строку.\n",
    "При решении этой задачи не стоит пользоваться циклами и инструкцией if."
   ]
  },
  {
   "cell_type": "code",
   "execution_count": 32,
   "metadata": {},
   "outputs": [
    {
     "name": "stdout",
     "output_type": "stream",
     "text": [
      "hello world\n",
      " world hello\n"
     ]
    }
   ],
   "source": [
    "s = input()\n",
    "c = s.find(' ')\n",
    "print(s[c:] + \" \" +s[:c])"
   ]
  },
  {
   "cell_type": "code",
   "execution_count": null,
   "metadata": {},
   "outputs": [],
   "source": [
    "Дана строка. Если в этой строке буква f встречается только один раз, выведите её индекс. \n",
    "Если она встречается два и более раз, выведите индекс её первого и последнего появления. \n",
    "Если буква f в данной строке не встречается, \n",
    "ничего не выводите."
   ]
  },
  {
   "cell_type": "code",
   "execution_count": 6,
   "metadata": {},
   "outputs": [
    {
     "name": "stdout",
     "output_type": "stream",
     "text": [
      "bqxfubxqufuqxuf\n",
      "3\n",
      "14\n"
     ]
    }
   ],
   "source": [
    "s = input()\n",
    "if s.count('f')==1:\n",
    "    print(s.find('f'))\n",
    "elif s.count('f')>=2:\n",
    "    print(s.find('f'))\n",
    "    print(s.rfind('f'))"
   ]
  },
  {
   "cell_type": "code",
   "execution_count": null,
   "metadata": {},
   "outputs": [],
   "source": []
  },
  {
   "cell_type": "code",
   "execution_count": null,
   "metadata": {},
   "outputs": [],
   "source": []
  }
 ],
 "metadata": {
  "kernelspec": {
   "display_name": "Python 3",
   "language": "python",
   "name": "python3"
  },
  "language_info": {
   "codemirror_mode": {
    "name": "ipython",
    "version": 3
   },
   "file_extension": ".py",
   "mimetype": "text/x-python",
   "name": "python",
   "nbconvert_exporter": "python",
   "pygments_lexer": "ipython3",
   "version": "3.7.4"
  }
 },
 "nbformat": 4,
 "nbformat_minor": 4
}
